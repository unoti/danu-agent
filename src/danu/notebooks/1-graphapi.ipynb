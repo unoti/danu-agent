{
 "cells": [
  {
   "cell_type": "markdown",
   "metadata": {},
   "source": [
    "# Graph API"
   ]
  },
  {
   "cell_type": "markdown",
   "metadata": {},
   "source": [
    "In this notebook we'll work to achieve milestone 1: the ability to read my personal OneNote files which are stored in my personal OneDrive account in Azure."
   ]
  },
  {
   "cell_type": "markdown",
   "metadata": {},
   "source": [
    "## Create App Registration and Authentication\n",
    "\n",
    "The first step is to create an Azure App Registration.  The reason we do this is it gives our application an identity in Azure which we can use to grant permissions.  We do this in the Azure Portal.  I named mine \"Danu Agent\"."
   ]
  },
  {
   "cell_type": "markdown",
   "metadata": {},
   "source": [
    "If this were a commercial app, I'd be using managed identity.  But for now for local experimentation I'm going to create a client secret and make a way to retrieve these credentials."
   ]
  },
  {
   "cell_type": "code",
   "execution_count": 1,
   "metadata": {},
   "outputs": [],
   "source": [
    "from danu.infra import LocalJsonSecretsProvider"
   ]
  },
  {
   "cell_type": "code",
   "execution_count": 2,
   "metadata": {},
   "outputs": [],
   "source": [
    "secrets = LocalJsonSecretsProvider('../../config/danu-config.json') # This is at the top level, same level as 'src'"
   ]
  },
  {
   "cell_type": "code",
   "execution_count": 3,
   "metadata": {},
   "outputs": [
    {
     "ename": "FileNotFoundError",
     "evalue": "[Errno 2] No such file or directory: '../config/config.json'",
     "output_type": "error",
     "traceback": [
      "\u001b[1;31m---------------------------------------------------------------------------\u001b[0m",
      "\u001b[1;31mFileNotFoundError\u001b[0m                         Traceback (most recent call last)",
      "\u001b[1;32md:\\code\\proj\\danu-agent\\src\\danu\\notebooks\\1-graphapi.ipynb Cell 7\u001b[0m line \u001b[0;36m1\n\u001b[1;32m----> <a href='vscode-notebook-cell:/d%3A/code/proj/danu-agent/src/danu/notebooks/1-graphapi.ipynb#X12sZmlsZQ%3D%3D?line=0'>1</a>\u001b[0m secrets\u001b[39m.\u001b[39;49mget_secret(\u001b[39m'\u001b[39;49m\u001b[39mx\u001b[39;49m\u001b[39m'\u001b[39;49m)\n",
      "File \u001b[1;32mD:\\code\\proj\\danu-agent\\src\\danu\\danu\\infra\\secrets.py:24\u001b[0m, in \u001b[0;36mLocalJsonSecretsProvider.get_secret\u001b[1;34m(self, name)\u001b[0m\n\u001b[0;32m     23\u001b[0m \u001b[39mdef\u001b[39;00m \u001b[39mget_secret\u001b[39m(\u001b[39mself\u001b[39m, name: \u001b[39mstr\u001b[39m) \u001b[39m-\u001b[39m\u001b[39m>\u001b[39m \u001b[39mstr\u001b[39m:\n\u001b[1;32m---> 24\u001b[0m     content \u001b[39m=\u001b[39m \u001b[39mself\u001b[39;49m\u001b[39m.\u001b[39;49m_load()\n",
      "File \u001b[1;32mD:\\code\\proj\\danu-agent\\src\\danu\\danu\\infra\\secrets.py:29\u001b[0m, in \u001b[0;36mLocalJsonSecretsProvider._load\u001b[1;34m(self)\u001b[0m\n\u001b[0;32m     26\u001b[0m \u001b[39mdef\u001b[39;00m \u001b[39m_load\u001b[39m(\u001b[39mself\u001b[39m) \u001b[39m-\u001b[39m\u001b[39m>\u001b[39m \u001b[39mdict\u001b[39m:\n\u001b[0;32m     27\u001b[0m     \u001b[39m# We're reading the file every time it's used because we want to recognize changes.\u001b[39;00m\n\u001b[0;32m     28\u001b[0m     \u001b[39m# This is inefficient but not worth optimizing for now.\u001b[39;00m\n\u001b[1;32m---> 29\u001b[0m     \u001b[39mwith\u001b[39;00m \u001b[39mopen\u001b[39;49m(\u001b[39mself\u001b[39;49m\u001b[39m.\u001b[39;49m_filename, \u001b[39m'\u001b[39;49m\u001b[39mr\u001b[39;49m\u001b[39m'\u001b[39;49m) \u001b[39mas\u001b[39;00m f:\n\u001b[0;32m     30\u001b[0m         result \u001b[39m=\u001b[39m json\u001b[39m.\u001b[39mload(f)\n\u001b[0;32m     31\u001b[0m         \u001b[39mprint\u001b[39m(\u001b[39mtype\u001b[39m(result))\n",
      "\u001b[1;31mFileNotFoundError\u001b[0m: [Errno 2] No such file or directory: '../config/config.json'"
     ]
    }
   ],
   "source": [
    "secrets.get_secret('x')"
   ]
  },
  {
   "cell_type": "code",
   "execution_count": null,
   "metadata": {},
   "outputs": [],
   "source": []
  }
 ],
 "metadata": {
  "kernelspec": {
   "display_name": "venv",
   "language": "python",
   "name": "python3"
  },
  "language_info": {
   "codemirror_mode": {
    "name": "ipython",
    "version": 3
   },
   "file_extension": ".py",
   "mimetype": "text/x-python",
   "name": "python",
   "nbconvert_exporter": "python",
   "pygments_lexer": "ipython3",
   "version": "3.11.6"
  }
 },
 "nbformat": 4,
 "nbformat_minor": 2
}
