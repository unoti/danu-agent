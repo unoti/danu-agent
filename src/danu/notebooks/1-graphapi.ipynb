{
 "cells": [
  {
   "cell_type": "markdown",
   "metadata": {},
   "source": [
    "# Graph API"
   ]
  },
  {
   "cell_type": "markdown",
   "metadata": {},
   "source": [
    "In this notebook we'll work to achieve milestone 1: the ability to read my personal OneNote files which are stored in my personal OneDrive account in Azure."
   ]
  },
  {
   "cell_type": "markdown",
   "metadata": {},
   "source": [
    "## Create App Registration and Authentication\n",
    "\n",
    "The first step is to create an Azure App Registration.  The reason we do this is it gives our application an identity in Azure which we can use to grant permissions.  We do this in the Azure Portal.  I named mine \"Danu Agent\"."
   ]
  },
  {
   "cell_type": "markdown",
   "metadata": {},
   "source": [
    "If this were a commercial app, I'd be using managed identity.  But for now for local experimentation I'm going to create a client secret and make a way to retrieve these credentials."
   ]
  },
  {
   "cell_type": "markdown",
   "metadata": {},
   "source": [
    "## Create config file\n",
    "\n",
    "Create a directory `config` in the project root, and create `config/danu-config.json` there as shown below.  Note that this file is not in source control and will not be checked in:\n",
    "\n",
    "`config/danu-config.json`:\n",
    "```json\n",
    "{\n",
    "    \"danu-identity\":\n",
    "    {\n",
    "        \"app_id\": \"app id goes here. Fill this in from your app registration you created.\",\n",
    "        \"client_secret\": \"app secret goes here. Create a client secret and put it here.\"\n",
    "    }\n",
    "}\n",
    "```"
   ]
  },
  {
   "cell_type": "code",
   "execution_count": 1,
   "metadata": {},
   "outputs": [],
   "source": [
    "from danu.infra import LocalJsonSecretsProvider"
   ]
  },
  {
   "cell_type": "code",
   "execution_count": 2,
   "metadata": {},
   "outputs": [],
   "source": [
    "secrets = LocalJsonSecretsProvider('../../../config/danu-config.json') # This is at the top level, same level as 'src'"
   ]
  },
  {
   "cell_type": "code",
   "execution_count": 3,
   "metadata": {},
   "outputs": [
    {
     "name": "stdout",
     "output_type": "stream",
     "text": [
      "app id 52e677b3-b988-4573-b9d0-18cdb5c7c67b tenant=32dd5da8-160d-4bc8-9fcc-9c8ed28043ea secret len=40\n"
     ]
    }
   ],
   "source": [
    "app_id = secrets.get_secret('danu-identity.app_id')\n",
    "client_secret = secrets.get_secret('danu-identity.client_secret')\n",
    "tenant_id = secrets.get_secret('danu-identity.tenant_id')\n",
    "print(f'app id {app_id} tenant={tenant_id} secret len={len(client_secret)}')"
   ]
  },
  {
   "cell_type": "markdown",
   "metadata": {},
   "source": [
    "We now have an identity for our application established."
   ]
  },
  {
   "cell_type": "markdown",
   "metadata": {},
   "source": [
    "## Graph authentication\n",
    "\n",
    "Working through ideas in [Microsoft Graph authentication and authorization overview](https://learn.microsoft.com/en-us/graph/auth/).\n"
   ]
  },
  {
   "cell_type": "code",
   "execution_count": 4,
   "metadata": {},
   "outputs": [],
   "source": [
    "from msal import ConfidentialClientApplication"
   ]
  },
  {
   "cell_type": "code",
   "execution_count": 5,
   "metadata": {},
   "outputs": [],
   "source": [
    "authority = f'https://login.microsoftonline.com/{tenant_id}'\n",
    "scopes = ['https://graph.microsoft.com/.default']\n",
    "\n",
    "app = ConfidentialClientApplication(app_id, authority=authority, client_credential=client_secret)\n",
    "result = app.acquire_token_for_client(scopes)"
   ]
  },
  {
   "cell_type": "code",
   "execution_count": 6,
   "metadata": {},
   "outputs": [
    {
     "data": {
      "text/plain": [
       "('Bearer', 'eyJ...')"
      ]
     },
     "execution_count": 6,
     "metadata": {},
     "output_type": "execute_result"
    }
   ],
   "source": [
    "result['token_type'], result['access_token'][0:3] + '...'"
   ]
  },
  {
   "cell_type": "code",
   "execution_count": 7,
   "metadata": {},
   "outputs": [],
   "source": [
    "access_token = result['access_token']"
   ]
  },
  {
   "cell_type": "code",
   "execution_count": 8,
   "metadata": {},
   "outputs": [],
   "source": [
    "# Use Graph API to access OneNote data\n",
    "import requests\n",
    "headers = {'Authorization': f'Bearer {access_token}'}\n",
    "response = requests.get('https://graph.microsoft.com/v1.0/me/onenote/notebooks', headers=headers)"
   ]
  },
  {
   "cell_type": "code",
   "execution_count": 9,
   "metadata": {},
   "outputs": [
    {
     "data": {
      "text/plain": [
       "(<Response [400]>,\n",
       " b'{\"error\":{\"code\":\"BadRequest\",\"message\":\"/me request is only valid with delegated authentication flow.\",\"innerError\":{\"date\":\"2023-10-14T23:35:39\",\"request-id\":\"727c30e6-0ba0-46c5-960a-b8afa064b00c\",\"client-request-id\":\"727c30e6-0ba0-46c5-960a-b8afa064b00c\"}}}')"
      ]
     },
     "execution_count": 9,
     "metadata": {},
     "output_type": "execute_result"
    }
   ],
   "source": [
    "response, response.content"
   ]
  },
  {
   "cell_type": "markdown",
   "metadata": {},
   "source": [
    "One way to handle this would be to use a web site that has a public endpoint for retrieving the credentials via a redirect.  But since we're in a notebook, let's use an `InteractiveBrowserCredential` from the `azure.identity` package.  This will open a browser window for us to authenticate and grant permissions to the application."
   ]
  },
  {
   "cell_type": "code",
   "execution_count": 10,
   "metadata": {},
   "outputs": [],
   "source": [
    "from azure.identity import InteractiveBrowserCredential\n",
    "import requests"
   ]
  },
  {
   "cell_type": "code",
   "execution_count": 14,
   "metadata": {},
   "outputs": [
    {
     "name": "stderr",
     "output_type": "stream",
     "text": [
      "InteractiveBrowserCredential.get_token failed: AADSTS7000218: The request body must contain the following parameter: 'client_assertion' or 'client_secret'.\n",
      "Trace ID: 06c78d72-316c-4851-988a-c9453e4d1f00\n",
      "Correlation ID: 6c854f8e-f515-469b-a4a8-ca6e822ed33a\n",
      "Timestamp: 2023-10-14 23:41:33Z\n"
     ]
    },
    {
     "ename": "ClientAuthenticationError",
     "evalue": "AADSTS7000218: The request body must contain the following parameter: 'client_assertion' or 'client_secret'.\r\nTrace ID: 06c78d72-316c-4851-988a-c9453e4d1f00\r\nCorrelation ID: 6c854f8e-f515-469b-a4a8-ca6e822ed33a\r\nTimestamp: 2023-10-14 23:41:33Z",
     "output_type": "error",
     "traceback": [
      "\u001b[1;31m---------------------------------------------------------------------------\u001b[0m",
      "\u001b[1;31mClientAuthenticationError\u001b[0m                 Traceback (most recent call last)",
      "\u001b[1;32md:\\code\\proj\\danu-agent\\src\\danu\\notebooks\\1-graphapi.ipynb Cell 19\u001b[0m line \u001b[0;36m3\n\u001b[0;32m      <a href='vscode-notebook-cell:/d%3A/code/proj/danu-agent/src/danu/notebooks/1-graphapi.ipynb#X62sZmlsZQ%3D%3D?line=0'>1</a>\u001b[0m redirect_uri \u001b[39m=\u001b[39m \u001b[39m'\u001b[39m\u001b[39mhttp://localhost:59513\u001b[39m\u001b[39m'\u001b[39m \u001b[39m# Must add this in portal for app/authentication/platform configurations/redirect uris\u001b[39;00m\n\u001b[0;32m      <a href='vscode-notebook-cell:/d%3A/code/proj/danu-agent/src/danu/notebooks/1-graphapi.ipynb#X62sZmlsZQ%3D%3D?line=1'>2</a>\u001b[0m credential \u001b[39m=\u001b[39m InteractiveBrowserCredential(client_id\u001b[39m=\u001b[39mapp_id, tenant_id\u001b[39m=\u001b[39mtenant_id, redirect_uri\u001b[39m=\u001b[39mredirect_uri, client_secret\u001b[39m=\u001b[39mclient_secret)\n\u001b[1;32m----> <a href='vscode-notebook-cell:/d%3A/code/proj/danu-agent/src/danu/notebooks/1-graphapi.ipynb#X62sZmlsZQ%3D%3D?line=2'>3</a>\u001b[0m token \u001b[39m=\u001b[39m credential\u001b[39m.\u001b[39;49mget_token(\u001b[39m'\u001b[39;49m\u001b[39mhttps://graph.microsoft.com/.default\u001b[39;49m\u001b[39m'\u001b[39;49m, client_secret\u001b[39m=\u001b[39;49mclient_secret)\n\u001b[0;32m      <a href='vscode-notebook-cell:/d%3A/code/proj/danu-agent/src/danu/notebooks/1-graphapi.ipynb#X62sZmlsZQ%3D%3D?line=3'>4</a>\u001b[0m access_token \u001b[39m=\u001b[39m token\u001b[39m.\u001b[39mtoken\n",
      "File \u001b[1;32md:\\code\\proj\\danu-agent\\venv\\Lib\\site-packages\\azure\\identity\\_internal\\interactive.py:162\u001b[0m, in \u001b[0;36mInteractiveCredential.get_token\u001b[1;34m(self, claims, tenant_id, *scopes, **kwargs)\u001b[0m\n\u001b[0;32m    159\u001b[0m now \u001b[39m=\u001b[39m \u001b[39mint\u001b[39m(time\u001b[39m.\u001b[39mtime())\n\u001b[0;32m    161\u001b[0m \u001b[39mtry\u001b[39;00m:\n\u001b[1;32m--> 162\u001b[0m     result \u001b[39m=\u001b[39m \u001b[39mself\u001b[39;49m\u001b[39m.\u001b[39;49m_request_token(\u001b[39m*\u001b[39;49mscopes, claims\u001b[39m=\u001b[39;49mclaims, tenant_id\u001b[39m=\u001b[39;49mtenant_id, \u001b[39m*\u001b[39;49m\u001b[39m*\u001b[39;49mkwargs)\n\u001b[0;32m    163\u001b[0m     \u001b[39mif\u001b[39;00m \u001b[39m\"\u001b[39m\u001b[39maccess_token\u001b[39m\u001b[39m\"\u001b[39m \u001b[39mnot\u001b[39;00m \u001b[39min\u001b[39;00m result:\n\u001b[0;32m    164\u001b[0m         message \u001b[39m=\u001b[39m \u001b[39m\"\u001b[39m\u001b[39mAuthentication failed: \u001b[39m\u001b[39m{}\u001b[39;00m\u001b[39m\"\u001b[39m\u001b[39m.\u001b[39mformat(result\u001b[39m.\u001b[39mget(\u001b[39m\"\u001b[39m\u001b[39merror_description\u001b[39m\u001b[39m\"\u001b[39m) \u001b[39mor\u001b[39;00m result\u001b[39m.\u001b[39mget(\u001b[39m\"\u001b[39m\u001b[39merror\u001b[39m\u001b[39m\"\u001b[39m))\n",
      "File \u001b[1;32md:\\code\\proj\\danu-agent\\venv\\Lib\\site-packages\\azure\\identity\\_internal\\decorators.py:79\u001b[0m, in \u001b[0;36mwrap_exceptions.<locals>.wrapper\u001b[1;34m(*args, **kwargs)\u001b[0m\n\u001b[0;32m     76\u001b[0m \u001b[39m@functools\u001b[39m\u001b[39m.\u001b[39mwraps(fn)\n\u001b[0;32m     77\u001b[0m \u001b[39mdef\u001b[39;00m \u001b[39mwrapper\u001b[39m(\u001b[39m*\u001b[39margs, \u001b[39m*\u001b[39m\u001b[39m*\u001b[39mkwargs):\n\u001b[0;32m     78\u001b[0m     \u001b[39mtry\u001b[39;00m:\n\u001b[1;32m---> 79\u001b[0m         \u001b[39mreturn\u001b[39;00m fn(\u001b[39m*\u001b[39;49margs, \u001b[39m*\u001b[39;49m\u001b[39m*\u001b[39;49mkwargs)\n\u001b[0;32m     80\u001b[0m     \u001b[39mexcept\u001b[39;00m ClientAuthenticationError:\n\u001b[0;32m     81\u001b[0m         \u001b[39mraise\u001b[39;00m\n",
      "File \u001b[1;32md:\\code\\proj\\danu-agent\\venv\\Lib\\site-packages\\azure\\identity\\_credentials\\browser.py:145\u001b[0m, in \u001b[0;36mInteractiveBrowserCredential._request_token\u001b[1;34m(self, *scopes, **kwargs)\u001b[0m\n\u001b[0;32m    143\u001b[0m     \u001b[39mif\u001b[39;00m within_dac\u001b[39m.\u001b[39mget():\n\u001b[0;32m    144\u001b[0m         \u001b[39mraise\u001b[39;00m CredentialUnavailableError(message\u001b[39m=\u001b[39mresult[\u001b[39m\"\u001b[39m\u001b[39merror_description\u001b[39m\u001b[39m\"\u001b[39m])\n\u001b[1;32m--> 145\u001b[0m     \u001b[39mraise\u001b[39;00m ClientAuthenticationError(message\u001b[39m=\u001b[39mresult\u001b[39m.\u001b[39mget(\u001b[39m\"\u001b[39m\u001b[39merror_description\u001b[39m\u001b[39m\"\u001b[39m))\n\u001b[0;32m    146\u001b[0m \u001b[39mif\u001b[39;00m \u001b[39m\"\u001b[39m\u001b[39maccess_token\u001b[39m\u001b[39m\"\u001b[39m \u001b[39mnot\u001b[39;00m \u001b[39min\u001b[39;00m result:\n\u001b[0;32m    147\u001b[0m     \u001b[39mif\u001b[39;00m within_dac\u001b[39m.\u001b[39mget():\n",
      "\u001b[1;31mClientAuthenticationError\u001b[0m: AADSTS7000218: The request body must contain the following parameter: 'client_assertion' or 'client_secret'.\r\nTrace ID: 06c78d72-316c-4851-988a-c9453e4d1f00\r\nCorrelation ID: 6c854f8e-f515-469b-a4a8-ca6e822ed33a\r\nTimestamp: 2023-10-14 23:41:33Z"
     ]
    }
   ],
   "source": [
    "redirect_uri = 'http://localhost:59513' # Must add this in portal for app/authentication/platform configurations/redirect uris\n",
    "credential = InteractiveBrowserCredential(client_id=app_id, tenant_id=tenant_id, redirect_uri=redirect_uri, client_secret=client_secret)\n",
    "token = credential.get_token('https://graph.microsoft.com/.default', client_secret=client_secret)\n",
    "access_token = token.token"
   ]
  },
  {
   "cell_type": "markdown",
   "metadata": {},
   "source": [
    "I apologize for the confusion earlier. It seems that the InteractiveBrowserCredential does not support the use of a client secret. In this case, you can use the DeviceCodeCredential instead, which is designed for situations where you don't have a web server to receive the credentials.\n",
    "\n",
    "Note that you must go into your application under Authentication/Advanced and enable **Allow public client flows**."
   ]
  },
  {
   "cell_type": "code",
   "execution_count": 34,
   "metadata": {},
   "outputs": [
    {
     "name": "stdout",
     "output_type": "stream",
     "text": [
      "To sign in, use a web browser to open the page https://microsoft.com/devicelogin and enter the code E6U67WR78 to authenticate.\n"
     ]
    }
   ],
   "source": [
    "from azure.identity import DeviceCodeCredential\n",
    "scope = 'User.Read,Notes.Read'\n",
    "one_note_content = '/me/onenote/notebooks' # For a OneDrive for business account. See https://learn.microsoft.com/en-us/graph/integrate-with-onenote\n",
    "#one_note_content = '/me/drive/root/onenote/notebooks' # For a personal OneDrive account\n",
    "credential = DeviceCodeCredential(client_id=app_id, tenant_id=tenant_id, scope=scope)\n",
    "token = credential.get_token(scope)\n",
    "access_token = token.token\n",
    "\n",
    "headers = {'Authorization': f'Bearer {access_token}'}\n",
    "response = requests.get('https://graph.microsoft.com/v1.0' + one_note_content, headers=headers)"
   ]
  },
  {
   "cell_type": "code",
   "execution_count": 35,
   "metadata": {},
   "outputs": [
    {
     "data": {
      "text/plain": [
       "(404,\n",
       " b'{\"error\":{\"code\":\"30108\",\"message\":\"OneDrive for Business for this user account cannot be retrieved.\",\"innerError\":{\"date\":\"2023-10-15T01:02:14\",\"request-id\":\"33bed514-656d-4e7c-b77f-f0df481dc69b\",\"client-request-id\":\"33bed514-656d-4e7c-b77f-f0df481dc69b\"}}}')"
      ]
     },
     "execution_count": 35,
     "metadata": {},
     "output_type": "execute_result"
    }
   ],
   "source": [
    "response.status_code, response.content"
   ]
  },
  {
   "cell_type": "code",
   "execution_count": 36,
   "metadata": {},
   "outputs": [],
   "source": [
    "access_token='...'\n",
    "headers = {'Authorization': f'Bearer {access_token}'}\n",
    "response = requests.get('https://graph.microsoft.com/v1.0' + one_note_content, headers=headers)"
   ]
  },
  {
   "cell_type": "code",
   "execution_count": 37,
   "metadata": {},
   "outputs": [
    {
     "data": {
      "text/plain": [
       "(200,\n",
       " b'{\"@odata.context\":\"https://graph.microsoft.com/v1.0/$metadata#users(\\'richardlack%40hotmail.com\\')/onenote/notebooks\",\"value\":[{\"id\":\"0-D837C5F832A7D046!513\",\"self\":\"https://graph.microsoft.com/v1.0/users/richardlack@hotmail.com/onenote/notebooks/0-D837C5F832A7D046!513\",\"createdDateTime\":\"2016-04-28T15:23:06.233Z\",\"displayName\":\"Argon Collab\",\"lastModifiedDateTime\":\"2017-11-04T16:33:20.203Z\",\"isDefault\":false,\"userRole\":\"Owner\",\"isShared\":true,\"sectionsUrl\":\"https://graph.microsoft.com/v1.0/users/richardlack@hotmail.com/onenote/notebooks/0-D837C5F832A7D046!513/sections\",\"sectionGroupsUrl\":\"https://graph.microsoft.com/v1.0/users/richardlack@hotmail.com/onenote/notebooks/0-D837C5F832A7D046!513/sectionGroups\",\"createdBy\":{\"user\":{\"id\":\"D837C5F832A7D046\",\"displayName\":\"Richard Lack\"}},\"lastModifiedBy\":{\"user\":{\"id\":\"D837C5F832A7D046\",\"displayName\":\"Richard Lack\"}},\"links\":{\"oneNoteClientUrl\":{\"href\":\"onenote:https://d.docs.live.net/d837c5f832a7d046/Documents/Argon%20Collab\"},\"oneNoteWebUrl\":{\"href\":\"https://onedrive.live.com/redir.aspx?cid=d837c5f832a7d046&page=edit&resid=D837C5F832A7D046!513\"}}},{\"id\":\"0-D837C5F832A7D046!213\",\"self\":\"https://graph.microsoft.com/v1.0/users/richardlack@hotmail.com/onenote/notebooks/0-D837C5F832A7D046!213\",\"createdDateTime\":\"2015-03-16T13:58:35.723Z\",\"displayName\":\"Casa de Lack\",\"lastModifiedDateTime\":\"2023-10-12T00:33:36.077Z\",\"isDefault\":false,\"userRole\":\"Owner\",\"isShared\":true,\"sectionsUrl\":\"https://graph.microsoft.com/v1.0/users/richardlack@hotmail.com/onenote/notebooks/0-D837C5F832A7D046!213/sections\",\"sectionGroupsUrl\":\"https://graph.microsoft.com/v1.0/users/richardlack@hotmail.com/onenote/notebooks/0-D837C5F832A7D046!213/sectionGroups\",\"createdBy\":{\"user\":{\"id\":\"D837C5F832A7D046\",\"displayName\":\"Richard Lack\"}},\"lastModifiedBy\":{\"user\":{\"id\":\"D837C5F832A7D046\",\"displayName\":\"Richard Lack\"}},\"links\":{\"oneNoteClientUrl\":{\"href\":\"onenote:https://d.docs.live.net/d837c5f832a7d046/Documents/Casa%20de%20Lack\"},\"oneNoteWebUrl\":{\"href\":\"https://onedrive.live.com/redir.aspx?cid=d837c5f832a7d046&page=edit&resid=D837C5F832A7D046!213\"}}},{\"id\":\"0-D837C5F832A7D046!413\",\"self\":\"https://graph.microsoft.com/v1.0/users/richardlack@hotmail.com/onenote/notebooks/0-D837C5F832A7D046!413\",\"createdDateTime\":\"2015-08-10T20:27:39.147Z\",\"displayName\":\"Edge4x4-TABLET-T4MQ0ET0\",\"lastModifiedDateTime\":\"2023-02-20T12:35:57.75Z\",\"isDefault\":false,\"userRole\":\"Owner\",\"isShared\":true,\"sectionsUrl\":\"https://graph.microsoft.com/v1.0/users/richardlack@hotmail.com/onenote/notebooks/0-D837C5F832A7D046!413/sections\",\"sectionGroupsUrl\":\"https://graph.microsoft.com/v1.0/users/richardlack@hotmail.com/onenote/notebooks/0-D837C5F832A7D046!413/sectionGroups\",\"createdBy\":{\"user\":{\"id\":\"D837C5F832A7D046\",\"displayName\":\"Richard Lack\"}},\"lastModifiedBy\":{\"user\":{\"id\":\"D837C5F832A7D046\",\"displayName\":\"Richard Lack\"}},\"links\":{\"oneNoteClientUrl\":{\"href\":\"onenote:https://d.docs.live.net/d837c5f832a7d046/Documents/Edge4x4-TABLET-T4MQ0ET0\"},\"oneNoteWebUrl\":{\"href\":\"https://onedrive.live.com/redir.aspx?cid=d837c5f832a7d046&page=edit&resid=D837C5F832A7D046!413\"}}},{\"id\":\"0-D837C5F832A7D046!11498\",\"self\":\"https://graph.microsoft.com/v1.0/users/richardlack@hotmail.com/onenote/notebooks/0-D837C5F832A7D046!11498\",\"createdDateTime\":\"2020-07-04T19:27:36.72Z\",\"displayName\":\"GuildWebsite\",\"lastModifiedDateTime\":\"2023-03-02T00:58:40.197Z\",\"isDefault\":false,\"userRole\":\"Owner\",\"isShared\":true,\"sectionsUrl\":\"https://graph.microsoft.com/v1.0/users/richardlack@hotmail.com/onenote/notebooks/0-D837C5F832A7D046!11498/sections\",\"sectionGroupsUrl\":\"https://graph.microsoft.com/v1.0/users/richardlack@hotmail.com/onenote/notebooks/0-D837C5F832A7D046!11498/sectionGroups\",\"createdBy\":{\"user\":{\"id\":\"D837C5F832A7D046\",\"displayName\":\"Richard Lack\"}},\"lastModifiedBy\":{\"user\":{\"id\":\"D837C5F832A7D046\",\"displayName\":\"Richard Lack\"}},\"links\":{\"oneNoteClientUrl\":{\"href\":\"onenote:https://d.docs.live.net/d837c5f832a7d046/Documents/GuildWebsite\"},\"oneNoteWebUrl\":{\"href\":\"https://onedrive.live.com/redir.aspx?cid=d837c5f832a7d046&page=edit&resid=D837C5F832A7D046!11498\"}}},{\"id\":\"0-9FA50C10908E5E6C!4057\",\"self\":\"https://graph.microsoft.com/v1.0/users/richardlack@hotmail.com/onenote/notebooks/0-9FA50C10908E5E6C!4057\",\"createdDateTime\":\"2017-12-07T01:15:43.35Z\",\"displayName\":\"Kuddles\",\"lastModifiedDateTime\":\"2018-02-06T17:31:51.893Z\",\"isDefault\":false,\"userRole\":\"Contributor\",\"isShared\":true,\"sectionsUrl\":\"https://graph.microsoft.com/v1.0/users/richardlack@hotmail.com/onenote/notebooks/0-9FA50C10908E5E6C!4057/sections\",\"sectionGroupsUrl\":\"https://graph.microsoft.com/v1.0/users/richardlack@hotmail.com/onenote/notebooks/0-9FA50C10908E5E6C!4057/sectionGroups\",\"createdBy\":{\"user\":{\"id\":\"9FA50C10908E5E6C\",\"displayName\":\"Coralee Lack\"}},\"lastModifiedBy\":{\"user\":{\"id\":\"9FA50C10908E5E6C\",\"displayName\":\"Coralee Lack\"}},\"links\":{\"oneNoteClientUrl\":{\"href\":\"onenote:https://d.docs.live.net/9fa50c10908e5e6c/Documents/Kuddles\"},\"oneNoteWebUrl\":{\"href\":\"https://onedrive.live.com/redir.aspx?cid=9fa50c10908e5e6c&page=edit&resid=9FA50C10908E5E6C!4057\"}}},{\"id\":\"0-D837C5F832A7D046!64100\",\"self\":\"https://graph.microsoft.com/v1.0/users/richardlack@hotmail.com/onenote/notebooks/0-D837C5F832A7D046!64100\",\"createdDateTime\":\"2023-03-04T20:17:51.913Z\",\"displayName\":\"Lubritech\",\"lastModifiedDateTime\":\"2023-03-15T00:33:20.05Z\",\"isDefault\":false,\"userRole\":\"Owner\",\"isShared\":false,\"sectionsUrl\":\"https://graph.microsoft.com/v1.0/users/richardlack@hotmail.com/onenote/notebooks/0-D837C5F832A7D046!64100/sections\",\"sectionGroupsUrl\":\"https://graph.microsoft.com/v1.0/users/richardlack@hotmail.com/onenote/notebooks/0-D837C5F832A7D046!64100/sectionGroups\",\"createdBy\":{\"user\":{\"id\":\"D837C5F832A7D046\",\"displayName\":\"Richard Lack\"}},\"lastModifiedBy\":{\"user\":{\"id\":\"D837C5F832A7D046\",\"displayName\":\"Richard Lack\"}},\"links\":{\"oneNoteClientUrl\":{\"href\":\"onenote:https://d.docs.live.net/d837c5f832a7d046/Documents/Lubritech\"},\"oneNoteWebUrl\":{\"href\":\"https://onedrive.live.com/redir.aspx?cid=d837c5f832a7d046&page=edit&resid=D837C5F832A7D046!64100\"}}},{\"id\":\"0-D837C5F832A7D046!196\",\"self\":\"https://graph.microsoft.com/v1.0/users/richardlack@hotmail.com/onenote/notebooks/0-D837C5F832A7D046!196\",\"createdDateTime\":\"2015-01-27T18:08:58.57Z\",\"displayName\":\"Mossms\",\"lastModifiedDateTime\":\"2022-10-08T15:41:07.337Z\",\"isDefault\":false,\"userRole\":\"Owner\",\"isShared\":true,\"sectionsUrl\":\"https://graph.microsoft.com/v1.0/users/richardlack@hotmail.com/onenote/notebooks/0-D837C5F832A7D046!196/sections\",\"sectionGroupsUrl\":\"https://graph.microsoft.com/v1.0/users/richardlack@hotmail.com/onenote/notebooks/0-D837C5F832A7D046!196/sectionGroups\",\"createdBy\":{\"user\":{\"id\":\"D837C5F832A7D046\",\"displayName\":\"Richard Lack\"}},\"lastModifiedBy\":{\"user\":{\"id\":\"9FA50C10908E5E6C\",\"displayName\":\"Coralee Lack\"}},\"links\":{\"oneNoteClientUrl\":{\"href\":\"onenote:https://d.docs.live.net/d837c5f832a7d046/Documents/Mossms\"},\"oneNoteWebUrl\":{\"href\":\"https://onedrive.live.com/redir.aspx?cid=d837c5f832a7d046&page=edit&resid=D837C5F832A7D046!196\"}}},{\"id\":\"0-D837C5F832A7D046!486\",\"self\":\"https://graph.microsoft.com/v1.0/users/richardlack@hotmail.com/onenote/notebooks/0-D837C5F832A7D046!486\",\"createdDateTime\":\"2016-03-04T19:16:18.93Z\",\"displayName\":\"Richard Microsoft\",\"lastModifiedDateTime\":\"2023-10-14T19:43:51.773Z\",\"isDefault\":false,\"userRole\":\"Owner\",\"isShared\":false,\"sectionsUrl\":\"https://graph.microsoft.com/v1.0/users/richardlack@hotmail.com/onenote/notebooks/0-D837C5F832A7D046!486/sections\",\"sectionGroupsUrl\":\"https://graph.microsoft.com/v1.0/users/richardlack@hotmail.com/onenote/notebooks/0-D837C5F832A7D046!486/sectionGroups\",\"createdBy\":{\"user\":{\"id\":\"D837C5F832A7D046\",\"displayName\":\"Richard Lack\"}},\"lastModifiedBy\":{\"user\":{\"id\":\"D837C5F832A7D046\",\"displayName\":\"Richard Lack\"}},\"links\":{\"oneNoteClientUrl\":{\"href\":\"onenote:https://d.docs.live.net/d837c5f832a7d046/Documents/Richard%20Microsoft\"},\"oneNoteWebUrl\":{\"href\":\"https://onedrive.live.com/redir.aspx?cid=d837c5f832a7d046&page=edit&resid=D837C5F832A7D046!486\"}}},{\"id\":\"0-D837C5F832A7D046!125\",\"self\":\"https://graph.microsoft.com/v1.0/users/richardlack@hotmail.com/onenote/notebooks/0-D837C5F832A7D046!125\",\"createdDateTime\":\"2014-03-27T16:49:06.16Z\",\"displayName\":\"Richard\\'s Notebook\",\"lastModifiedDateTime\":\"2023-10-14T20:07:35.073Z\",\"isDefault\":true,\"userRole\":\"Owner\",\"isShared\":false,\"sectionsUrl\":\"https://graph.microsoft.com/v1.0/users/richardlack@hotmail.com/onenote/notebooks/0-D837C5F832A7D046!125/sections\",\"sectionGroupsUrl\":\"https://graph.microsoft.com/v1.0/users/richardlack@hotmail.com/onenote/notebooks/0-D837C5F832A7D046!125/sectionGroups\",\"createdBy\":{\"user\":{\"id\":\"D837C5F832A7D046\",\"displayName\":\"Richard Lack\"}},\"lastModifiedBy\":{\"user\":{\"id\":\"D837C5F832A7D046\",\"displayName\":\"Richard Lack\"}},\"links\":{\"oneNoteClientUrl\":{\"href\":\"onenote:https://d.docs.live.net/d837c5f832a7d046/Documents/Richard\\'s%20Notebook\"},\"oneNoteWebUrl\":{\"href\":\"https://onedrive.live.com/redir.aspx?cid=d837c5f832a7d046&page=edit&resid=D837C5F832A7D046!125\"}}}]}')"
      ]
     },
     "execution_count": 37,
     "metadata": {},
     "output_type": "execute_result"
    }
   ],
   "source": [
    "response.status_code, response.content"
   ]
  },
  {
   "cell_type": "markdown",
   "metadata": {},
   "source": [
    "---"
   ]
  },
  {
   "cell_type": "markdown",
   "metadata": {},
   "source": [
    "The redirect URI 'http://localhost:59436' specified in the request does not match the redirect URIs configured for the application '52e677b3-b988-4573-b9d0-18cdb5c7c67b'. Make sure the redirect URI sent in the request matches one added to your application in the Azure portal. Navigate to https://aka.ms/redirectUriMismatchError to learn more about how to fix this."
   ]
  },
  {
   "cell_type": "markdown",
   "metadata": {},
   "source": [
    "---"
   ]
  },
  {
   "cell_type": "markdown",
   "metadata": {},
   "source": [
    "We will work to achieve **delegated access** or access on behalf of a user."
   ]
  },
  {
   "cell_type": "code",
   "execution_count": null,
   "metadata": {},
   "outputs": [],
   "source": [
    "from msal import ConfidentialClientApplication"
   ]
  },
  {
   "cell_type": "code",
   "execution_count": null,
   "metadata": {},
   "outputs": [],
   "source": [
    "app = ConfidentialClientApplication(app_id, authority='https://login.microsoftonline.com/common',\n",
    "                                    client_credential=client_secret)"
   ]
  },
  {
   "cell_type": "code",
   "execution_count": null,
   "metadata": {},
   "outputs": [],
   "source": [
    "accounts = app.get_accounts() # Check the cache to see if we have some accounts"
   ]
  },
  {
   "cell_type": "code",
   "execution_count": null,
   "metadata": {},
   "outputs": [],
   "source": [
    "accounts"
   ]
  },
  {
   "cell_type": "code",
   "execution_count": null,
   "metadata": {},
   "outputs": [],
   "source": [
    "app."
   ]
  },
  {
   "cell_type": "markdown",
   "metadata": {},
   "source": [
    "For some reason, acquire_token_iteractive isn't available there.  Let's try it with a public application instead of a confidential one."
   ]
  },
  {
   "cell_type": "code",
   "execution_count": null,
   "metadata": {},
   "outputs": [],
   "source": [
    "from msal import PublicClientApplication"
   ]
  },
  {
   "cell_type": "code",
   "execution_count": null,
   "metadata": {},
   "outputs": [],
   "source": [
    "app = PublicClientApplication(app_id, authority='https://login.microsoftonline.com/consumers')"
   ]
  },
  {
   "cell_type": "code",
   "execution_count": null,
   "metadata": {},
   "outputs": [],
   "source": [
    "result = app.acquire_token_interactive(scopes=['User.Read'])"
   ]
  },
  {
   "cell_type": "markdown",
   "metadata": {},
   "source": [
    "Result was:\n",
    "> AADSTS700016: Application with identifier '52e677b3-b988-4573-b9d0-18cdb5c7c67b' was not found in the directory 'Microsoft'. This can happen if the application has not been installed by the administrator of the tenant or consented to by any user in the tenant. You may have sent your authentication request to the wrong tenant."
   ]
  },
  {
   "cell_type": "markdown",
   "metadata": {},
   "source": [
    "I got that before, then I switched the authority to be `/consumers` instead of `/common`.  Then I re-ran the code and got this error:"
   ]
  },
  {
   "cell_type": "markdown",
   "metadata": {},
   "source": [
    "> unauthorized_client: The client does not exist or is not enabled for consumers. If you are the application developer, configure a new application through the App Registrations in the Azure Portal at https://go.microsoft.com/fwlink/?linkid=2083908."
   ]
  },
  {
   "cell_type": "markdown",
   "metadata": {},
   "source": [
    "---"
   ]
  },
  {
   "cell_type": "markdown",
   "metadata": {},
   "source": [
    "Graph API explorer, this is cool [Graph API Explorer](https://developer.microsoft.com/en-us/graph/graph-explorer)"
   ]
  },
  {
   "cell_type": "markdown",
   "metadata": {},
   "source": [
    "## Temporary Token\n",
    "I'm having a lot of trouble making this API work,  but the problem is somewhere in how I'm getting my token. I know this because I am able to successfully use [Graph API Explorer](https://developer.microsoft.com/en-us/graph/graph-explorer) to explore my OneNote data, even without having a Sharepoint Online license.  So I'm going to work around this by using the token I got from Graph API Explorer for now, and come back later and figure out how to properly get the token.  I got this token using graph explorer, authorized it for Note.Read, and we're off to the races, hopefully."
   ]
  },
  {
   "cell_type": "code",
   "execution_count": 38,
   "metadata": {},
   "outputs": [],
   "source": [
    "access_token = secrets.get_secret('danu-identity.temporary_token')"
   ]
  },
  {
   "cell_type": "markdown",
   "metadata": {},
   "source": [
    "## OneNote Abstraction"
   ]
  },
  {
   "cell_type": "markdown",
   "metadata": {},
   "source": [
    "I can see by exploring Graph explorer that working with this data is going to be an adventure.  To make accessing this easier, let's make our own abstraction."
   ]
  },
  {
   "cell_type": "code",
   "execution_count": 55,
   "metadata": {},
   "outputs": [],
   "source": [
    "from dataclasses import dataclass"
   ]
  },
  {
   "cell_type": "code",
   "execution_count": 56,
   "metadata": {},
   "outputs": [],
   "source": [
    "@dataclass\n",
    "class Notebook:\n",
    "    name: str\n",
    "    url: str\n"
   ]
  },
  {
   "cell_type": "code",
   "execution_count": 65,
   "metadata": {},
   "outputs": [],
   "source": [
    "class OneNoteClient:\n",
    "    def __init__(self, access_token: str):\n",
    "        self._token = access_token\n",
    "    \n",
    "    def list_notebooks(self):\n",
    "        notebooks = []\n",
    "        resp = self._request('/me/onenote/notebooks')\n",
    "        value_list = resp['value']\n",
    "        for notebook_json in value_list:\n",
    "            url = notebook_json['self']\n",
    "            name = notebook_json['displayName']\n",
    "            notebook = Notebook(name=name, url=url)\n",
    "            notebooks.append(notebook)\n",
    "        return notebooks\n",
    "    \n",
    "    def _request(self, url):\n",
    "        headers = {'Authorization': f'Bearer {self._token}'}\n",
    "        response = requests.get('https://graph.microsoft.com/v1.0' + url, headers=headers)\n",
    "        if response.status_code != 200:\n",
    "            raise Exception(f'OneNoteClient got {response.status_code} {response.content}')\n",
    "        return response.json()\n",
    "\n",
    "one_note = OneNoteClient(access_token)"
   ]
  },
  {
   "cell_type": "code",
   "execution_count": 64,
   "metadata": {},
   "outputs": [
    {
     "ename": "Exception",
     "evalue": "OneNoteClient got 400 b'{\"error\":{\"code\":\"20127\",\"message\":\"Unknown property name: \\'title\\'.\",\"innerError\":{\"date\":\"2023-10-15T01:40:17\",\"request-id\":\"36498339-541d-4e0c-ac2e-833b9c14a1a3\",\"client-request-id\":\"36498339-541d-4e0c-ac2e-833b9c14a1a3\"}}}'",
     "output_type": "error",
     "traceback": [
      "\u001b[1;31m---------------------------------------------------------------------------\u001b[0m",
      "\u001b[1;31mException\u001b[0m                                 Traceback (most recent call last)",
      "\u001b[1;32md:\\code\\proj\\danu-agent\\src\\danu\\notebooks\\1-graphapi.ipynb Cell 50\u001b[0m line \u001b[0;36m1\n\u001b[1;32m----> <a href='vscode-notebook-cell:/d%3A/code/proj/danu-agent/src/danu/notebooks/1-graphapi.ipynb#Y125sZmlsZQ%3D%3D?line=0'>1</a>\u001b[0m resp \u001b[39m=\u001b[39m one_note\u001b[39m.\u001b[39;49mlist_notebooks()\n",
      "\u001b[1;32md:\\code\\proj\\danu-agent\\src\\danu\\notebooks\\1-graphapi.ipynb Cell 50\u001b[0m line \u001b[0;36m7\n\u001b[0;32m      <a href='vscode-notebook-cell:/d%3A/code/proj/danu-agent/src/danu/notebooks/1-graphapi.ipynb#Y125sZmlsZQ%3D%3D?line=4'>5</a>\u001b[0m \u001b[39mdef\u001b[39;00m \u001b[39mlist_notebooks\u001b[39m(\u001b[39mself\u001b[39m):\n\u001b[0;32m      <a href='vscode-notebook-cell:/d%3A/code/proj/danu-agent/src/danu/notebooks/1-graphapi.ipynb#Y125sZmlsZQ%3D%3D?line=5'>6</a>\u001b[0m     notebooks \u001b[39m=\u001b[39m []\n\u001b[1;32m----> <a href='vscode-notebook-cell:/d%3A/code/proj/danu-agent/src/danu/notebooks/1-graphapi.ipynb#Y125sZmlsZQ%3D%3D?line=6'>7</a>\u001b[0m     resp \u001b[39m=\u001b[39m \u001b[39mself\u001b[39;49m\u001b[39m.\u001b[39;49m_request(\u001b[39m'\u001b[39;49m\u001b[39m/me/onenote/notebooks?select=title,self\u001b[39;49m\u001b[39m'\u001b[39;49m)\n\u001b[0;32m      <a href='vscode-notebook-cell:/d%3A/code/proj/danu-agent/src/danu/notebooks/1-graphapi.ipynb#Y125sZmlsZQ%3D%3D?line=7'>8</a>\u001b[0m     value_list \u001b[39m=\u001b[39m resp[\u001b[39m'\u001b[39m\u001b[39mvalue\u001b[39m\u001b[39m'\u001b[39m]\n\u001b[0;32m      <a href='vscode-notebook-cell:/d%3A/code/proj/danu-agent/src/danu/notebooks/1-graphapi.ipynb#Y125sZmlsZQ%3D%3D?line=8'>9</a>\u001b[0m     \u001b[39mfor\u001b[39;00m notebook_json \u001b[39min\u001b[39;00m value_list:\n",
      "\u001b[1;32md:\\code\\proj\\danu-agent\\src\\danu\\notebooks\\1-graphapi.ipynb Cell 50\u001b[0m line \u001b[0;36m2\n\u001b[0;32m     <a href='vscode-notebook-cell:/d%3A/code/proj/danu-agent/src/danu/notebooks/1-graphapi.ipynb#Y125sZmlsZQ%3D%3D?line=17'>18</a>\u001b[0m response \u001b[39m=\u001b[39m requests\u001b[39m.\u001b[39mget(\u001b[39m'\u001b[39m\u001b[39mhttps://graph.microsoft.com/v1.0\u001b[39m\u001b[39m'\u001b[39m \u001b[39m+\u001b[39m url, headers\u001b[39m=\u001b[39mheaders)\n\u001b[0;32m     <a href='vscode-notebook-cell:/d%3A/code/proj/danu-agent/src/danu/notebooks/1-graphapi.ipynb#Y125sZmlsZQ%3D%3D?line=18'>19</a>\u001b[0m \u001b[39mif\u001b[39;00m response\u001b[39m.\u001b[39mstatus_code \u001b[39m!=\u001b[39m \u001b[39m200\u001b[39m:\n\u001b[1;32m---> <a href='vscode-notebook-cell:/d%3A/code/proj/danu-agent/src/danu/notebooks/1-graphapi.ipynb#Y125sZmlsZQ%3D%3D?line=19'>20</a>\u001b[0m     \u001b[39mraise\u001b[39;00m \u001b[39mException\u001b[39;00m(\u001b[39mf\u001b[39m\u001b[39m'\u001b[39m\u001b[39mOneNoteClient got \u001b[39m\u001b[39m{\u001b[39;00mresponse\u001b[39m.\u001b[39mstatus_code\u001b[39m}\u001b[39;00m\u001b[39m \u001b[39m\u001b[39m{\u001b[39;00mresponse\u001b[39m.\u001b[39mcontent\u001b[39m}\u001b[39;00m\u001b[39m'\u001b[39m)\n\u001b[0;32m     <a href='vscode-notebook-cell:/d%3A/code/proj/danu-agent/src/danu/notebooks/1-graphapi.ipynb#Y125sZmlsZQ%3D%3D?line=20'>21</a>\u001b[0m \u001b[39mreturn\u001b[39;00m response\u001b[39m.\u001b[39mjson()\n",
      "\u001b[1;31mException\u001b[0m: OneNoteClient got 400 b'{\"error\":{\"code\":\"20127\",\"message\":\"Unknown property name: \\'title\\'.\",\"innerError\":{\"date\":\"2023-10-15T01:40:17\",\"request-id\":\"36498339-541d-4e0c-ac2e-833b9c14a1a3\",\"client-request-id\":\"36498339-541d-4e0c-ac2e-833b9c14a1a3\"}}}'"
     ]
    }
   ],
   "source": [
    "resp = one_note.list_notebooks()\n"
   ]
  },
  {
   "cell_type": "code",
   "execution_count": 60,
   "metadata": {},
   "outputs": [
    {
     "data": {
      "text/plain": [
       "[Notebook(name='Argon Collab', url='https://graph.microsoft.com/v1.0/users/richardlack@hotmail.com/onenote/notebooks/0-D837C5F832A7D046!513'),\n",
       " Notebook(name='Casa de Lack', url='https://graph.microsoft.com/v1.0/users/richardlack@hotmail.com/onenote/notebooks/0-D837C5F832A7D046!213'),\n",
       " Notebook(name='Edge4x4-TABLET-T4MQ0ET0', url='https://graph.microsoft.com/v1.0/users/richardlack@hotmail.com/onenote/notebooks/0-D837C5F832A7D046!413'),\n",
       " Notebook(name='GuildWebsite', url='https://graph.microsoft.com/v1.0/users/richardlack@hotmail.com/onenote/notebooks/0-D837C5F832A7D046!11498'),\n",
       " Notebook(name='Kuddles', url='https://graph.microsoft.com/v1.0/users/richardlack@hotmail.com/onenote/notebooks/0-9FA50C10908E5E6C!4057'),\n",
       " Notebook(name='Lubritech', url='https://graph.microsoft.com/v1.0/users/richardlack@hotmail.com/onenote/notebooks/0-D837C5F832A7D046!64100'),\n",
       " Notebook(name='Mossms', url='https://graph.microsoft.com/v1.0/users/richardlack@hotmail.com/onenote/notebooks/0-D837C5F832A7D046!196'),\n",
       " Notebook(name='Richard Microsoft', url='https://graph.microsoft.com/v1.0/users/richardlack@hotmail.com/onenote/notebooks/0-D837C5F832A7D046!486'),\n",
       " Notebook(name=\"Richard's Notebook\", url='https://graph.microsoft.com/v1.0/users/richardlack@hotmail.com/onenote/notebooks/0-D837C5F832A7D046!125')]"
      ]
     },
     "execution_count": 60,
     "metadata": {},
     "output_type": "execute_result"
    }
   ],
   "source": [
    "resp"
   ]
  },
  {
   "cell_type": "code",
   "execution_count": null,
   "metadata": {},
   "outputs": [],
   "source": []
  }
 ],
 "metadata": {
  "kernelspec": {
   "display_name": "venv",
   "language": "python",
   "name": "python3"
  },
  "language_info": {
   "codemirror_mode": {
    "name": "ipython",
    "version": 3
   },
   "file_extension": ".py",
   "mimetype": "text/x-python",
   "name": "python",
   "nbconvert_exporter": "python",
   "pygments_lexer": "ipython3",
   "version": "3.11.6"
  }
 },
 "nbformat": 4,
 "nbformat_minor": 2
}
