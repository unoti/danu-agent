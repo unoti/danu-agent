{
 "cells": [
  {
   "cell_type": "markdown",
   "metadata": {},
   "source": [
    "# Graph API"
   ]
  },
  {
   "cell_type": "markdown",
   "metadata": {},
   "source": [
    "In this notebook we'll work to achieve milestone 1: the ability to read my personal OneNote files which are stored in my personal OneDrive account in Azure."
   ]
  },
  {
   "cell_type": "code",
   "execution_count": 165,
   "metadata": {},
   "outputs": [],
   "source": [
    "from dataclasses import dataclass\n",
    "import requests\n",
    "from typing import List\n",
    "\n",
    "from azure.identity import DeviceCodeCredential, InteractiveBrowserCredential\n",
    "from bs4 import BeautifulSoup\n",
    "from markdownify import markdownify as md\n",
    "from msal import ConfidentialClientApplication\n",
    "\n",
    "from danu.infra import LocalJsonSecretsProvider"
   ]
  },
  {
   "cell_type": "markdown",
   "metadata": {},
   "source": [
    "## Create App Registration and Authentication\n",
    "\n",
    "The first step is to create an Azure App Registration.  The reason we do this is it gives our application an identity in Azure which we can use to grant permissions.  We do this in the Azure Portal.  I named mine \"Danu Agent\"."
   ]
  },
  {
   "cell_type": "markdown",
   "metadata": {},
   "source": [
    "If this were a commercial app, I'd be using managed identity.  But for now for local experimentation I'm going to create a client secret and make a way to retrieve these credentials."
   ]
  },
  {
   "cell_type": "markdown",
   "metadata": {},
   "source": [
    "## Create config file\n",
    "\n",
    "Create a directory `config` in the project root, and create `config/danu-config.json` there as shown below.  Note that this file is not in source control and will not be checked in:\n",
    "\n",
    "`config/danu-config.json`:\n",
    "```json\n",
    "{\n",
    "    \"danu-identity\":\n",
    "    {\n",
    "        \"app_id\": \"app id goes here. Fill this in from your app registration you created.\",\n",
    "        \"client_secret\": \"app secret goes here. Create a client secret and put it here.\"\n",
    "    }\n",
    "}\n",
    "```"
   ]
  },
  {
   "cell_type": "code",
   "execution_count": 1,
   "metadata": {},
   "outputs": [],
   "source": []
  },
  {
   "cell_type": "code",
   "execution_count": 2,
   "metadata": {},
   "outputs": [],
   "source": [
    "secrets = LocalJsonSecretsProvider('../../../config/danu-config.json') # This is at the top level, same level as 'src'"
   ]
  },
  {
   "cell_type": "code",
   "execution_count": 3,
   "metadata": {},
   "outputs": [
    {
     "name": "stdout",
     "output_type": "stream",
     "text": [
      "app id 52e677b3-b988-4573-b9d0-18cdb5c7c67b tenant=32dd5da8-160d-4bc8-9fcc-9c8ed28043ea secret len=40\n"
     ]
    }
   ],
   "source": [
    "app_id = secrets.get_secret('danu-identity.app_id')\n",
    "client_secret = secrets.get_secret('danu-identity.client_secret')\n",
    "tenant_id = secrets.get_secret('danu-identity.tenant_id')\n",
    "print(f'app id {app_id} tenant={tenant_id} secret len={len(client_secret)}')"
   ]
  },
  {
   "cell_type": "markdown",
   "metadata": {},
   "source": [
    "We now have an identity for our application established."
   ]
  },
  {
   "cell_type": "markdown",
   "metadata": {},
   "source": [
    "## Graph authentication\n",
    "\n",
    "Working through ideas in [Microsoft Graph authentication and authorization overview](https://learn.microsoft.com/en-us/graph/auth/).\n"
   ]
  },
  {
   "cell_type": "code",
   "execution_count": 4,
   "metadata": {},
   "outputs": [],
   "source": []
  },
  {
   "cell_type": "code",
   "execution_count": 5,
   "metadata": {},
   "outputs": [],
   "source": [
    "authority = f'https://login.microsoftonline.com/{tenant_id}'\n",
    "scopes = ['https://graph.microsoft.com/.default']\n",
    "\n",
    "app = ConfidentialClientApplication(app_id, authority=authority, client_credential=client_secret)\n",
    "result = app.acquire_token_for_client(scopes)"
   ]
  },
  {
   "cell_type": "code",
   "execution_count": 6,
   "metadata": {},
   "outputs": [
    {
     "data": {
      "text/plain": [
       "('Bearer', 'eyJ...')"
      ]
     },
     "execution_count": 6,
     "metadata": {},
     "output_type": "execute_result"
    }
   ],
   "source": [
    "result['token_type'], result['access_token'][0:3] + '...'"
   ]
  },
  {
   "cell_type": "code",
   "execution_count": 7,
   "metadata": {},
   "outputs": [],
   "source": [
    "access_token = result['access_token']"
   ]
  },
  {
   "cell_type": "code",
   "execution_count": 8,
   "metadata": {},
   "outputs": [],
   "source": [
    "# Use Graph API to access OneNote data\n",
    "import requests\n",
    "headers = {'Authorization': f'Bearer {access_token}'}\n",
    "response = requests.get('https://graph.microsoft.com/v1.0/me/onenote/notebooks', headers=headers)"
   ]
  },
  {
   "cell_type": "code",
   "execution_count": 9,
   "metadata": {},
   "outputs": [
    {
     "data": {
      "text/plain": [
       "(<Response [400]>,\n",
       " b'{\"error\":{\"code\":\"BadRequest\",\"message\":\"/me request is only valid with delegated authentication flow.\",\"innerError\":{\"date\":\"2023-10-14T23:35:39\",\"request-id\":\"727c30e6-0ba0-46c5-960a-b8afa064b00c\",\"client-request-id\":\"727c30e6-0ba0-46c5-960a-b8afa064b00c\"}}}')"
      ]
     },
     "execution_count": 9,
     "metadata": {},
     "output_type": "execute_result"
    }
   ],
   "source": [
    "response, response.content"
   ]
  },
  {
   "cell_type": "markdown",
   "metadata": {},
   "source": [
    "One way to handle this would be to use a web site that has a public endpoint for retrieving the credentials via a redirect.  But since we're in a notebook, let's use an `InteractiveBrowserCredential` from the `azure.identity` package.  This will open a browser window for us to authenticate and grant permissions to the application."
   ]
  },
  {
   "cell_type": "code",
   "execution_count": 10,
   "metadata": {},
   "outputs": [],
   "source": []
  },
  {
   "cell_type": "code",
   "execution_count": 14,
   "metadata": {},
   "outputs": [
    {
     "name": "stderr",
     "output_type": "stream",
     "text": [
      "InteractiveBrowserCredential.get_token failed: AADSTS7000218: The request body must contain the following parameter: 'client_assertion' or 'client_secret'.\n",
      "Trace ID: 06c78d72-316c-4851-988a-c9453e4d1f00\n",
      "Correlation ID: 6c854f8e-f515-469b-a4a8-ca6e822ed33a\n",
      "Timestamp: 2023-10-14 23:41:33Z\n"
     ]
    },
    {
     "ename": "ClientAuthenticationError",
     "evalue": "AADSTS7000218: The request body must contain the following parameter: 'client_assertion' or 'client_secret'.\r\nTrace ID: 06c78d72-316c-4851-988a-c9453e4d1f00\r\nCorrelation ID: 6c854f8e-f515-469b-a4a8-ca6e822ed33a\r\nTimestamp: 2023-10-14 23:41:33Z",
     "output_type": "error",
     "traceback": [
      "\u001b[1;31m---------------------------------------------------------------------------\u001b[0m",
      "\u001b[1;31mClientAuthenticationError\u001b[0m                 Traceback (most recent call last)",
      "\u001b[1;32md:\\code\\proj\\danu-agent\\src\\danu\\notebooks\\1-graphapi.ipynb Cell 19\u001b[0m line \u001b[0;36m3\n\u001b[0;32m      <a href='vscode-notebook-cell:/d%3A/code/proj/danu-agent/src/danu/notebooks/1-graphapi.ipynb#X62sZmlsZQ%3D%3D?line=0'>1</a>\u001b[0m redirect_uri \u001b[39m=\u001b[39m \u001b[39m'\u001b[39m\u001b[39mhttp://localhost:59513\u001b[39m\u001b[39m'\u001b[39m \u001b[39m# Must add this in portal for app/authentication/platform configurations/redirect uris\u001b[39;00m\n\u001b[0;32m      <a href='vscode-notebook-cell:/d%3A/code/proj/danu-agent/src/danu/notebooks/1-graphapi.ipynb#X62sZmlsZQ%3D%3D?line=1'>2</a>\u001b[0m credential \u001b[39m=\u001b[39m InteractiveBrowserCredential(client_id\u001b[39m=\u001b[39mapp_id, tenant_id\u001b[39m=\u001b[39mtenant_id, redirect_uri\u001b[39m=\u001b[39mredirect_uri, client_secret\u001b[39m=\u001b[39mclient_secret)\n\u001b[1;32m----> <a href='vscode-notebook-cell:/d%3A/code/proj/danu-agent/src/danu/notebooks/1-graphapi.ipynb#X62sZmlsZQ%3D%3D?line=2'>3</a>\u001b[0m token \u001b[39m=\u001b[39m credential\u001b[39m.\u001b[39;49mget_token(\u001b[39m'\u001b[39;49m\u001b[39mhttps://graph.microsoft.com/.default\u001b[39;49m\u001b[39m'\u001b[39;49m, client_secret\u001b[39m=\u001b[39;49mclient_secret)\n\u001b[0;32m      <a href='vscode-notebook-cell:/d%3A/code/proj/danu-agent/src/danu/notebooks/1-graphapi.ipynb#X62sZmlsZQ%3D%3D?line=3'>4</a>\u001b[0m access_token \u001b[39m=\u001b[39m token\u001b[39m.\u001b[39mtoken\n",
      "File \u001b[1;32md:\\code\\proj\\danu-agent\\venv\\Lib\\site-packages\\azure\\identity\\_internal\\interactive.py:162\u001b[0m, in \u001b[0;36mInteractiveCredential.get_token\u001b[1;34m(self, claims, tenant_id, *scopes, **kwargs)\u001b[0m\n\u001b[0;32m    159\u001b[0m now \u001b[39m=\u001b[39m \u001b[39mint\u001b[39m(time\u001b[39m.\u001b[39mtime())\n\u001b[0;32m    161\u001b[0m \u001b[39mtry\u001b[39;00m:\n\u001b[1;32m--> 162\u001b[0m     result \u001b[39m=\u001b[39m \u001b[39mself\u001b[39;49m\u001b[39m.\u001b[39;49m_request_token(\u001b[39m*\u001b[39;49mscopes, claims\u001b[39m=\u001b[39;49mclaims, tenant_id\u001b[39m=\u001b[39;49mtenant_id, \u001b[39m*\u001b[39;49m\u001b[39m*\u001b[39;49mkwargs)\n\u001b[0;32m    163\u001b[0m     \u001b[39mif\u001b[39;00m \u001b[39m\"\u001b[39m\u001b[39maccess_token\u001b[39m\u001b[39m\"\u001b[39m \u001b[39mnot\u001b[39;00m \u001b[39min\u001b[39;00m result:\n\u001b[0;32m    164\u001b[0m         message \u001b[39m=\u001b[39m \u001b[39m\"\u001b[39m\u001b[39mAuthentication failed: \u001b[39m\u001b[39m{}\u001b[39;00m\u001b[39m\"\u001b[39m\u001b[39m.\u001b[39mformat(result\u001b[39m.\u001b[39mget(\u001b[39m\"\u001b[39m\u001b[39merror_description\u001b[39m\u001b[39m\"\u001b[39m) \u001b[39mor\u001b[39;00m result\u001b[39m.\u001b[39mget(\u001b[39m\"\u001b[39m\u001b[39merror\u001b[39m\u001b[39m\"\u001b[39m))\n",
      "File \u001b[1;32md:\\code\\proj\\danu-agent\\venv\\Lib\\site-packages\\azure\\identity\\_internal\\decorators.py:79\u001b[0m, in \u001b[0;36mwrap_exceptions.<locals>.wrapper\u001b[1;34m(*args, **kwargs)\u001b[0m\n\u001b[0;32m     76\u001b[0m \u001b[39m@functools\u001b[39m\u001b[39m.\u001b[39mwraps(fn)\n\u001b[0;32m     77\u001b[0m \u001b[39mdef\u001b[39;00m \u001b[39mwrapper\u001b[39m(\u001b[39m*\u001b[39margs, \u001b[39m*\u001b[39m\u001b[39m*\u001b[39mkwargs):\n\u001b[0;32m     78\u001b[0m     \u001b[39mtry\u001b[39;00m:\n\u001b[1;32m---> 79\u001b[0m         \u001b[39mreturn\u001b[39;00m fn(\u001b[39m*\u001b[39;49margs, \u001b[39m*\u001b[39;49m\u001b[39m*\u001b[39;49mkwargs)\n\u001b[0;32m     80\u001b[0m     \u001b[39mexcept\u001b[39;00m ClientAuthenticationError:\n\u001b[0;32m     81\u001b[0m         \u001b[39mraise\u001b[39;00m\n",
      "File \u001b[1;32md:\\code\\proj\\danu-agent\\venv\\Lib\\site-packages\\azure\\identity\\_credentials\\browser.py:145\u001b[0m, in \u001b[0;36mInteractiveBrowserCredential._request_token\u001b[1;34m(self, *scopes, **kwargs)\u001b[0m\n\u001b[0;32m    143\u001b[0m     \u001b[39mif\u001b[39;00m within_dac\u001b[39m.\u001b[39mget():\n\u001b[0;32m    144\u001b[0m         \u001b[39mraise\u001b[39;00m CredentialUnavailableError(message\u001b[39m=\u001b[39mresult[\u001b[39m\"\u001b[39m\u001b[39merror_description\u001b[39m\u001b[39m\"\u001b[39m])\n\u001b[1;32m--> 145\u001b[0m     \u001b[39mraise\u001b[39;00m ClientAuthenticationError(message\u001b[39m=\u001b[39mresult\u001b[39m.\u001b[39mget(\u001b[39m\"\u001b[39m\u001b[39merror_description\u001b[39m\u001b[39m\"\u001b[39m))\n\u001b[0;32m    146\u001b[0m \u001b[39mif\u001b[39;00m \u001b[39m\"\u001b[39m\u001b[39maccess_token\u001b[39m\u001b[39m\"\u001b[39m \u001b[39mnot\u001b[39;00m \u001b[39min\u001b[39;00m result:\n\u001b[0;32m    147\u001b[0m     \u001b[39mif\u001b[39;00m within_dac\u001b[39m.\u001b[39mget():\n",
      "\u001b[1;31mClientAuthenticationError\u001b[0m: AADSTS7000218: The request body must contain the following parameter: 'client_assertion' or 'client_secret'.\r\nTrace ID: 06c78d72-316c-4851-988a-c9453e4d1f00\r\nCorrelation ID: 6c854f8e-f515-469b-a4a8-ca6e822ed33a\r\nTimestamp: 2023-10-14 23:41:33Z"
     ]
    }
   ],
   "source": [
    "redirect_uri = 'http://localhost:59513' # Must add this in portal for app/authentication/platform configurations/redirect uris\n",
    "credential = InteractiveBrowserCredential(client_id=app_id, tenant_id=tenant_id, redirect_uri=redirect_uri, client_secret=client_secret)\n",
    "token = credential.get_token('https://graph.microsoft.com/.default', client_secret=client_secret)\n",
    "access_token = token.token"
   ]
  },
  {
   "cell_type": "markdown",
   "metadata": {},
   "source": [
    "I apologize for the confusion earlier. It seems that the InteractiveBrowserCredential does not support the use of a client secret. In this case, you can use the DeviceCodeCredential instead, which is designed for situations where you don't have a web server to receive the credentials.\n",
    "\n",
    "Note that you must go into your application under Authentication/Advanced and enable **Allow public client flows**."
   ]
  },
  {
   "cell_type": "code",
   "execution_count": 34,
   "metadata": {},
   "outputs": [
    {
     "name": "stdout",
     "output_type": "stream",
     "text": [
      "To sign in, use a web browser to open the page https://microsoft.com/devicelogin and enter the code E6U67WR78 to authenticate.\n"
     ]
    }
   ],
   "source": [
    "scope = 'User.Read,Notes.Read'\n",
    "one_note_content = '/me/onenote/notebooks' # For a OneDrive for business account. See https://learn.microsoft.com/en-us/graph/integrate-with-onenote\n",
    "#one_note_content = '/me/drive/root/onenote/notebooks' # For a personal OneDrive account\n",
    "credential = DeviceCodeCredential(client_id=app_id, tenant_id=tenant_id, scope=scope)\n",
    "token = credential.get_token(scope)\n",
    "access_token = token.token\n",
    "\n",
    "headers = {'Authorization': f'Bearer {access_token}'}\n",
    "response = requests.get('https://graph.microsoft.com/v1.0' + one_note_content, headers=headers)"
   ]
  },
  {
   "cell_type": "code",
   "execution_count": 35,
   "metadata": {},
   "outputs": [
    {
     "data": {
      "text/plain": [
       "(404,\n",
       " b'{\"error\":{\"code\":\"30108\",\"message\":\"OneDrive for Business for this user account cannot be retrieved.\",\"innerError\":{\"date\":\"2023-10-15T01:02:14\",\"request-id\":\"33bed514-656d-4e7c-b77f-f0df481dc69b\",\"client-request-id\":\"33bed514-656d-4e7c-b77f-f0df481dc69b\"}}}')"
      ]
     },
     "execution_count": 35,
     "metadata": {},
     "output_type": "execute_result"
    }
   ],
   "source": [
    "response.status_code, response.content"
   ]
  },
  {
   "cell_type": "code",
   "execution_count": 36,
   "metadata": {},
   "outputs": [],
   "source": [
    "access_token='...'\n",
    "headers = {'Authorization': f'Bearer {access_token}'}\n",
    "response = requests.get('https://graph.microsoft.com/v1.0' + one_note_content, headers=headers)"
   ]
  },
  {
   "cell_type": "code",
   "execution_count": 37,
   "metadata": {},
   "outputs": [
    {
     "data": {
      "text/plain": [
       "(200,\n",
       " b'{\"@odata.context\":\"https://graph.microsoft.com/v1.0/$metadata#users(\\'richardlack%40hotmail.com\\')/onenote/notebooks\",\"value\":[{\"id\":\"0-D837C5F832A7D046!513\",\"self\":\"https://graph.microsoft.com/v1.0/users/richardlack@hotmail.com/onenote/notebooks/0-D837C5F832A7D046!513\",\"createdDateTime\":\"2016-04-28T15:23:06.233Z\",\"displayName\":\"Argon Collab\",\"lastModifiedDateTime\":\"2017-11-04T16:33:20.203Z\",\"isDefault\":false,\"userRole\":\"Owner\",\"isShared\":true,\"sectionsUrl\":\"https://graph.microsoft.com/v1.0/users/richardlack@hotmail.com/onenote/notebooks/0-D837C5F832A7D046!513/sections\",\"sectionGroupsUrl\":\"https://graph.microsoft.com/v1.0/users/richardlack@hotmail.com/onenote/notebooks/0-D837C5F832A7D046!513/sectionGroups\",\"createdBy\":{\"user\":{\"id\":\"D837C5F832A7D046\",\"displayName\":\"Richard Lack\"}},\"lastModifiedBy\":{\"user\":{\"id\":\"D837C5F832A7D046\",\"displayName\":\"Richard Lack\"}},\"links\":{\"oneNoteClientUrl\":{\"href\":\"onenote:https://d.docs.live.net/d837c5f832a7d046/Documents/Argon%20Collab\"},\"oneNoteWebUrl\":{\"href\":\"https://onedrive.live.com/redir.aspx?cid=d837c5f832a7d046&page=edit&resid=D837C5F832A7D046!513\"}}},{\"id\":\"0-D837C5F832A7D046!213\",\"self\":\"https://graph.microsoft.com/v1.0/users/richardlack@hotmail.com/onenote/notebooks/0-D837C5F832A7D046!213\",\"createdDateTime\":\"2015-03-16T13:58:35.723Z\",\"displayName\":\"Casa de Lack\",\"lastModifiedDateTime\":\"2023-10-12T00:33:36.077Z\",\"isDefault\":false,\"userRole\":\"Owner\",\"isShared\":true,\"sectionsUrl\":\"https://graph.microsoft.com/v1.0/users/richardlack@hotmail.com/onenote/notebooks/0-D837C5F832A7D046!213/sections\",\"sectionGroupsUrl\":\"https://graph.microsoft.com/v1.0/users/richardlack@hotmail.com/onenote/notebooks/0-D837C5F832A7D046!213/sectionGroups\",\"createdBy\":{\"user\":{\"id\":\"D837C5F832A7D046\",\"displayName\":\"Richard Lack\"}},\"lastModifiedBy\":{\"user\":{\"id\":\"D837C5F832A7D046\",\"displayName\":\"Richard Lack\"}},\"links\":{\"oneNoteClientUrl\":{\"href\":\"onenote:https://d.docs.live.net/d837c5f832a7d046/Documents/Casa%20de%20Lack\"},\"oneNoteWebUrl\":{\"href\":\"https://onedrive.live.com/redir.aspx?cid=d837c5f832a7d046&page=edit&resid=D837C5F832A7D046!213\"}}},{\"id\":\"0-D837C5F832A7D046!413\",\"self\":\"https://graph.microsoft.com/v1.0/users/richardlack@hotmail.com/onenote/notebooks/0-D837C5F832A7D046!413\",\"createdDateTime\":\"2015-08-10T20:27:39.147Z\",\"displayName\":\"Edge4x4-TABLET-T4MQ0ET0\",\"lastModifiedDateTime\":\"2023-02-20T12:35:57.75Z\",\"isDefault\":false,\"userRole\":\"Owner\",\"isShared\":true,\"sectionsUrl\":\"https://graph.microsoft.com/v1.0/users/richardlack@hotmail.com/onenote/notebooks/0-D837C5F832A7D046!413/sections\",\"sectionGroupsUrl\":\"https://graph.microsoft.com/v1.0/users/richardlack@hotmail.com/onenote/notebooks/0-D837C5F832A7D046!413/sectionGroups\",\"createdBy\":{\"user\":{\"id\":\"D837C5F832A7D046\",\"displayName\":\"Richard Lack\"}},\"lastModifiedBy\":{\"user\":{\"id\":\"D837C5F832A7D046\",\"displayName\":\"Richard Lack\"}},\"links\":{\"oneNoteClientUrl\":{\"href\":\"onenote:https://d.docs.live.net/d837c5f832a7d046/Documents/Edge4x4-TABLET-T4MQ0ET0\"},\"oneNoteWebUrl\":{\"href\":\"https://onedrive.live.com/redir.aspx?cid=d837c5f832a7d046&page=edit&resid=D837C5F832A7D046!413\"}}},{\"id\":\"0-D837C5F832A7D046!11498\",\"self\":\"https://graph.microsoft.com/v1.0/users/richardlack@hotmail.com/onenote/notebooks/0-D837C5F832A7D046!11498\",\"createdDateTime\":\"2020-07-04T19:27:36.72Z\",\"displayName\":\"GuildWebsite\",\"lastModifiedDateTime\":\"2023-03-02T00:58:40.197Z\",\"isDefault\":false,\"userRole\":\"Owner\",\"isShared\":true,\"sectionsUrl\":\"https://graph.microsoft.com/v1.0/users/richardlack@hotmail.com/onenote/notebooks/0-D837C5F832A7D046!11498/sections\",\"sectionGroupsUrl\":\"https://graph.microsoft.com/v1.0/users/richardlack@hotmail.com/onenote/notebooks/0-D837C5F832A7D046!11498/sectionGroups\",\"createdBy\":{\"user\":{\"id\":\"D837C5F832A7D046\",\"displayName\":\"Richard Lack\"}},\"lastModifiedBy\":{\"user\":{\"id\":\"D837C5F832A7D046\",\"displayName\":\"Richard Lack\"}},\"links\":{\"oneNoteClientUrl\":{\"href\":\"onenote:https://d.docs.live.net/d837c5f832a7d046/Documents/GuildWebsite\"},\"oneNoteWebUrl\":{\"href\":\"https://onedrive.live.com/redir.aspx?cid=d837c5f832a7d046&page=edit&resid=D837C5F832A7D046!11498\"}}},{\"id\":\"0-9FA50C10908E5E6C!4057\",\"self\":\"https://graph.microsoft.com/v1.0/users/richardlack@hotmail.com/onenote/notebooks/0-9FA50C10908E5E6C!4057\",\"createdDateTime\":\"2017-12-07T01:15:43.35Z\",\"displayName\":\"Kuddles\",\"lastModifiedDateTime\":\"2018-02-06T17:31:51.893Z\",\"isDefault\":false,\"userRole\":\"Contributor\",\"isShared\":true,\"sectionsUrl\":\"https://graph.microsoft.com/v1.0/users/richardlack@hotmail.com/onenote/notebooks/0-9FA50C10908E5E6C!4057/sections\",\"sectionGroupsUrl\":\"https://graph.microsoft.com/v1.0/users/richardlack@hotmail.com/onenote/notebooks/0-9FA50C10908E5E6C!4057/sectionGroups\",\"createdBy\":{\"user\":{\"id\":\"9FA50C10908E5E6C\",\"displayName\":\"Coralee Lack\"}},\"lastModifiedBy\":{\"user\":{\"id\":\"9FA50C10908E5E6C\",\"displayName\":\"Coralee Lack\"}},\"links\":{\"oneNoteClientUrl\":{\"href\":\"onenote:https://d.docs.live.net/9fa50c10908e5e6c/Documents/Kuddles\"},\"oneNoteWebUrl\":{\"href\":\"https://onedrive.live.com/redir.aspx?cid=9fa50c10908e5e6c&page=edit&resid=9FA50C10908E5E6C!4057\"}}},{\"id\":\"0-D837C5F832A7D046!64100\",\"self\":\"https://graph.microsoft.com/v1.0/users/richardlack@hotmail.com/onenote/notebooks/0-D837C5F832A7D046!64100\",\"createdDateTime\":\"2023-03-04T20:17:51.913Z\",\"displayName\":\"Lubritech\",\"lastModifiedDateTime\":\"2023-03-15T00:33:20.05Z\",\"isDefault\":false,\"userRole\":\"Owner\",\"isShared\":false,\"sectionsUrl\":\"https://graph.microsoft.com/v1.0/users/richardlack@hotmail.com/onenote/notebooks/0-D837C5F832A7D046!64100/sections\",\"sectionGroupsUrl\":\"https://graph.microsoft.com/v1.0/users/richardlack@hotmail.com/onenote/notebooks/0-D837C5F832A7D046!64100/sectionGroups\",\"createdBy\":{\"user\":{\"id\":\"D837C5F832A7D046\",\"displayName\":\"Richard Lack\"}},\"lastModifiedBy\":{\"user\":{\"id\":\"D837C5F832A7D046\",\"displayName\":\"Richard Lack\"}},\"links\":{\"oneNoteClientUrl\":{\"href\":\"onenote:https://d.docs.live.net/d837c5f832a7d046/Documents/Lubritech\"},\"oneNoteWebUrl\":{\"href\":\"https://onedrive.live.com/redir.aspx?cid=d837c5f832a7d046&page=edit&resid=D837C5F832A7D046!64100\"}}},{\"id\":\"0-D837C5F832A7D046!196\",\"self\":\"https://graph.microsoft.com/v1.0/users/richardlack@hotmail.com/onenote/notebooks/0-D837C5F832A7D046!196\",\"createdDateTime\":\"2015-01-27T18:08:58.57Z\",\"displayName\":\"Mossms\",\"lastModifiedDateTime\":\"2022-10-08T15:41:07.337Z\",\"isDefault\":false,\"userRole\":\"Owner\",\"isShared\":true,\"sectionsUrl\":\"https://graph.microsoft.com/v1.0/users/richardlack@hotmail.com/onenote/notebooks/0-D837C5F832A7D046!196/sections\",\"sectionGroupsUrl\":\"https://graph.microsoft.com/v1.0/users/richardlack@hotmail.com/onenote/notebooks/0-D837C5F832A7D046!196/sectionGroups\",\"createdBy\":{\"user\":{\"id\":\"D837C5F832A7D046\",\"displayName\":\"Richard Lack\"}},\"lastModifiedBy\":{\"user\":{\"id\":\"9FA50C10908E5E6C\",\"displayName\":\"Coralee Lack\"}},\"links\":{\"oneNoteClientUrl\":{\"href\":\"onenote:https://d.docs.live.net/d837c5f832a7d046/Documents/Mossms\"},\"oneNoteWebUrl\":{\"href\":\"https://onedrive.live.com/redir.aspx?cid=d837c5f832a7d046&page=edit&resid=D837C5F832A7D046!196\"}}},{\"id\":\"0-D837C5F832A7D046!486\",\"self\":\"https://graph.microsoft.com/v1.0/users/richardlack@hotmail.com/onenote/notebooks/0-D837C5F832A7D046!486\",\"createdDateTime\":\"2016-03-04T19:16:18.93Z\",\"displayName\":\"Richard Microsoft\",\"lastModifiedDateTime\":\"2023-10-14T19:43:51.773Z\",\"isDefault\":false,\"userRole\":\"Owner\",\"isShared\":false,\"sectionsUrl\":\"https://graph.microsoft.com/v1.0/users/richardlack@hotmail.com/onenote/notebooks/0-D837C5F832A7D046!486/sections\",\"sectionGroupsUrl\":\"https://graph.microsoft.com/v1.0/users/richardlack@hotmail.com/onenote/notebooks/0-D837C5F832A7D046!486/sectionGroups\",\"createdBy\":{\"user\":{\"id\":\"D837C5F832A7D046\",\"displayName\":\"Richard Lack\"}},\"lastModifiedBy\":{\"user\":{\"id\":\"D837C5F832A7D046\",\"displayName\":\"Richard Lack\"}},\"links\":{\"oneNoteClientUrl\":{\"href\":\"onenote:https://d.docs.live.net/d837c5f832a7d046/Documents/Richard%20Microsoft\"},\"oneNoteWebUrl\":{\"href\":\"https://onedrive.live.com/redir.aspx?cid=d837c5f832a7d046&page=edit&resid=D837C5F832A7D046!486\"}}},{\"id\":\"0-D837C5F832A7D046!125\",\"self\":\"https://graph.microsoft.com/v1.0/users/richardlack@hotmail.com/onenote/notebooks/0-D837C5F832A7D046!125\",\"createdDateTime\":\"2014-03-27T16:49:06.16Z\",\"displayName\":\"Richard\\'s Notebook\",\"lastModifiedDateTime\":\"2023-10-14T20:07:35.073Z\",\"isDefault\":true,\"userRole\":\"Owner\",\"isShared\":false,\"sectionsUrl\":\"https://graph.microsoft.com/v1.0/users/richardlack@hotmail.com/onenote/notebooks/0-D837C5F832A7D046!125/sections\",\"sectionGroupsUrl\":\"https://graph.microsoft.com/v1.0/users/richardlack@hotmail.com/onenote/notebooks/0-D837C5F832A7D046!125/sectionGroups\",\"createdBy\":{\"user\":{\"id\":\"D837C5F832A7D046\",\"displayName\":\"Richard Lack\"}},\"lastModifiedBy\":{\"user\":{\"id\":\"D837C5F832A7D046\",\"displayName\":\"Richard Lack\"}},\"links\":{\"oneNoteClientUrl\":{\"href\":\"onenote:https://d.docs.live.net/d837c5f832a7d046/Documents/Richard\\'s%20Notebook\"},\"oneNoteWebUrl\":{\"href\":\"https://onedrive.live.com/redir.aspx?cid=d837c5f832a7d046&page=edit&resid=D837C5F832A7D046!125\"}}}]}')"
      ]
     },
     "execution_count": 37,
     "metadata": {},
     "output_type": "execute_result"
    }
   ],
   "source": [
    "response.status_code, response.content"
   ]
  },
  {
   "cell_type": "markdown",
   "metadata": {},
   "source": [
    "---"
   ]
  },
  {
   "cell_type": "markdown",
   "metadata": {},
   "source": [
    "The redirect URI 'http://localhost:59436' specified in the request does not match the redirect URIs configured for the application '52e677b3-b988-4573-b9d0-18cdb5c7c67b'. Make sure the redirect URI sent in the request matches one added to your application in the Azure portal. Navigate to https://aka.ms/redirectUriMismatchError to learn more about how to fix this."
   ]
  },
  {
   "cell_type": "markdown",
   "metadata": {},
   "source": [
    "---"
   ]
  },
  {
   "cell_type": "markdown",
   "metadata": {},
   "source": [
    "We will work to achieve **delegated access** or access on behalf of a user."
   ]
  },
  {
   "cell_type": "code",
   "execution_count": null,
   "metadata": {},
   "outputs": [],
   "source": []
  },
  {
   "cell_type": "code",
   "execution_count": null,
   "metadata": {},
   "outputs": [],
   "source": [
    "app = ConfidentialClientApplication(app_id, authority='https://login.microsoftonline.com/common',\n",
    "                                    client_credential=client_secret)"
   ]
  },
  {
   "cell_type": "code",
   "execution_count": null,
   "metadata": {},
   "outputs": [],
   "source": [
    "accounts = app.get_accounts() # Check the cache to see if we have some accounts"
   ]
  },
  {
   "cell_type": "code",
   "execution_count": null,
   "metadata": {},
   "outputs": [],
   "source": [
    "accounts"
   ]
  },
  {
   "cell_type": "code",
   "execution_count": null,
   "metadata": {},
   "outputs": [],
   "source": [
    "app."
   ]
  },
  {
   "cell_type": "markdown",
   "metadata": {},
   "source": [
    "For some reason, acquire_token_iteractive isn't available there.  Let's try it with a public application instead of a confidential one."
   ]
  },
  {
   "cell_type": "code",
   "execution_count": null,
   "metadata": {},
   "outputs": [],
   "source": [
    "from msal import PublicClientApplication"
   ]
  },
  {
   "cell_type": "code",
   "execution_count": null,
   "metadata": {},
   "outputs": [],
   "source": [
    "app = PublicClientApplication(app_id, authority='https://login.microsoftonline.com/consumers')"
   ]
  },
  {
   "cell_type": "code",
   "execution_count": null,
   "metadata": {},
   "outputs": [],
   "source": [
    "result = app.acquire_token_interactive(scopes=['User.Read'])"
   ]
  },
  {
   "cell_type": "markdown",
   "metadata": {},
   "source": [
    "Result was:\n",
    "> AADSTS700016: Application with identifier '52e677b3-b988-4573-b9d0-18cdb5c7c67b' was not found in the directory 'Microsoft'. This can happen if the application has not been installed by the administrator of the tenant or consented to by any user in the tenant. You may have sent your authentication request to the wrong tenant."
   ]
  },
  {
   "cell_type": "markdown",
   "metadata": {},
   "source": [
    "I got that before, then I switched the authority to be `/consumers` instead of `/common`.  Then I re-ran the code and got this error:"
   ]
  },
  {
   "cell_type": "markdown",
   "metadata": {},
   "source": [
    "> unauthorized_client: The client does not exist or is not enabled for consumers. If you are the application developer, configure a new application through the App Registrations in the Azure Portal at https://go.microsoft.com/fwlink/?linkid=2083908."
   ]
  },
  {
   "cell_type": "markdown",
   "metadata": {},
   "source": [
    "---"
   ]
  },
  {
   "cell_type": "markdown",
   "metadata": {},
   "source": [
    "Graph API explorer, this is cool [Graph API Explorer](https://developer.microsoft.com/en-us/graph/graph-explorer)"
   ]
  },
  {
   "cell_type": "markdown",
   "metadata": {},
   "source": [
    "## Temporary Token\n",
    "I'm having a lot of trouble making this API work,  but the problem is somewhere in how I'm getting my token. I know this because I am able to successfully use [Graph API Explorer](https://developer.microsoft.com/en-us/graph/graph-explorer) to explore my OneNote data, even without having a Sharepoint Online license.  So I'm going to work around this by using the token I got from Graph API Explorer for now, and come back later and figure out how to properly get the token.  I got this token using graph explorer, authorized it for Note.Read, and we're off to the races, hopefully."
   ]
  },
  {
   "cell_type": "code",
   "execution_count": 124,
   "metadata": {},
   "outputs": [],
   "source": [
    "access_token = secrets.get_secret('danu-identity.temporary_token')"
   ]
  },
  {
   "cell_type": "markdown",
   "metadata": {},
   "source": [
    "## OneNote Provider"
   ]
  },
  {
   "cell_type": "markdown",
   "metadata": {},
   "source": [
    "I can see by exploring Graph explorer that working with this data is going to be an adventure.  To make accessing this easier, let's make our own abstraction for working with OneNote."
   ]
  },
  {
   "cell_type": "code",
   "execution_count": 95,
   "metadata": {},
   "outputs": [],
   "source": [
    "@dataclass\n",
    "class Notebook:\n",
    "    name: str\n",
    "    url: str\n",
    "\n",
    "@dataclass\n",
    "class NotebookSection:\n",
    "    name: str\n",
    "    url: str\n",
    "\n",
    "@dataclass\n",
    "class NotebookPageRef:\n",
    "    \"\"\"A reference to a notebook page including its title.  Does not include the content.\"\"\"\n",
    "    name: str\n",
    "    url: str # URL for this page entity.\n",
    "    content_url: str # URL for the content inside of the page.\n"
   ]
  },
  {
   "cell_type": "code",
   "execution_count": 169,
   "metadata": {},
   "outputs": [],
   "source": [
    "class OneNoteClient:\n",
    "    def __init__(self, access_token: str):\n",
    "        self._token = access_token\n",
    "    \n",
    "    def list_notebooks(self) -> List[Notebook]:\n",
    "        notebooks = []\n",
    "        resp = self._request('/me/onenote/notebooks')\n",
    "        value_list = resp['value']\n",
    "        for notebook_json in value_list:\n",
    "            url = notebook_json['self']\n",
    "            name = notebook_json['displayName']\n",
    "            notebook = Notebook(name=name, url=url)\n",
    "            notebooks.append(notebook)\n",
    "        return notebooks\n",
    "    \n",
    "    def list_sections(self, notebook: Notebook) -> List[NotebookSection]:\n",
    "        sections = []\n",
    "        resp = self._request(notebook.url + '/sections?$select=self,displayName&$orderby=displayName')\n",
    "        for section_json in resp['value']:\n",
    "            section = NotebookSection(name=section_json['displayName'], url=section_json['self'])\n",
    "            sections.append(section)\n",
    "        return sections\n",
    "\n",
    "    def list_pages_in_section(self, section: NotebookSection) -> List[NotebookPageRef]:\n",
    "        resp = self._request(section.url + '/pages?$select=self,title,contenturl')\n",
    "        pages = []\n",
    "        # If the data is large we will get a chunk of data with a link for the next chunk.\n",
    "        while True: # Loop across the chunks of data.\n",
    "            for page_json in resp['value']:\n",
    "                page = NotebookPageRef(name=page_json['title'], url=page_json['self'], content_url=page_json['contentUrl'])\n",
    "                pages.append(page)\n",
    "            next_link = resp.get('@odata.nextLink')\n",
    "            \n",
    "            if not next_link:\n",
    "                break\n",
    "            resp = self._request(next_link) # Get the next chunk of data.\n",
    "        return pages\n",
    "\n",
    "    def get_page_text(self, page: NotebookPageRef) -> str:\n",
    "        content = self._request_plan(page.content_url)\n",
    "        soup = BeautifulSoup(content, features='html.parser')\n",
    "        return soup.get_text()\n",
    "\n",
    "    def get_page_html(self, page: NotebookPageRef) -> str:\n",
    "        return self._request_plain(page.content_url)\n",
    "    \n",
    "    def get_page_md(self, page: NotebookPageRef) -> str:\n",
    "        html_text = self.get_page_html(page)\n",
    "        return md(html_text)\n",
    "    \n",
    "    def find_page_from_path(self, notebook_name: str, section_name: str, page_name: str) -> NotebookPageRef:\n",
    "        # We could use filters to do this more efficiently. Also there is no error handling.\n",
    "        notebooks = self.list_notebooks()\n",
    "        notebook = [n for n in notebooks if n.name == notebook_name][0]\n",
    "        \n",
    "        sections = self.list_sections(notebook)\n",
    "        section = [s for s in sections if s.name == section_name][0]\n",
    "\n",
    "        pages = self.list_pages_in_section(section)\n",
    "        page = [p for p in pages if p.name == page_name][0]\n",
    "        return page\n",
    "\n",
    "\n",
    "    def _request(self, url):\n",
    "        \"\"\"Do an API request and return the result as json.\"\"\"\n",
    "        response = self._request_plain(url)\n",
    "        return response.json()\n",
    "    \n",
    "    def _request_plain(self, url):\n",
    "        \"\"\"Do a request including the headers, returning the response object.\"\"\"\n",
    "        headers = {'Authorization': f'Bearer {self._token}'}\n",
    "        if url.startswith('https://'):\n",
    "            request_url = url\n",
    "        else:\n",
    "            request_url = 'https://graph.microsoft.com/v1.0' + url\n",
    "\n",
    "        response = requests.get(request_url, headers=headers)\n",
    "        if response.status_code != 200:\n",
    "            raise Exception(f'OneNoteClient got {response.status_code} {response.content}')\n",
    "        return response.content\n",
    "\n",
    "\n",
    "one_note = OneNoteClient(access_token)"
   ]
  },
  {
   "cell_type": "code",
   "execution_count": 91,
   "metadata": {},
   "outputs": [
    {
     "data": {
      "text/plain": [
       "[Notebook(name='Argon Collab', url='https://graph.microsoft.com/v1.0/users/richardlack@hotmail.com/onenote/notebooks/0-D837C5F832A7D046!513'),\n",
       " Notebook(name='Casa de Lack', url='https://graph.microsoft.com/v1.0/users/richardlack@hotmail.com/onenote/notebooks/0-D837C5F832A7D046!213'),\n",
       " Notebook(name='Edge4x4-TABLET-T4MQ0ET0', url='https://graph.microsoft.com/v1.0/users/richardlack@hotmail.com/onenote/notebooks/0-D837C5F832A7D046!413'),\n",
       " Notebook(name='GuildWebsite', url='https://graph.microsoft.com/v1.0/users/richardlack@hotmail.com/onenote/notebooks/0-D837C5F832A7D046!11498'),\n",
       " Notebook(name='Kuddles', url='https://graph.microsoft.com/v1.0/users/richardlack@hotmail.com/onenote/notebooks/0-9FA50C10908E5E6C!4057'),\n",
       " Notebook(name='Lubritech', url='https://graph.microsoft.com/v1.0/users/richardlack@hotmail.com/onenote/notebooks/0-D837C5F832A7D046!64100'),\n",
       " Notebook(name='Mossms', url='https://graph.microsoft.com/v1.0/users/richardlack@hotmail.com/onenote/notebooks/0-D837C5F832A7D046!196'),\n",
       " Notebook(name='Richard Microsoft', url='https://graph.microsoft.com/v1.0/users/richardlack@hotmail.com/onenote/notebooks/0-D837C5F832A7D046!486'),\n",
       " Notebook(name=\"Richard's Notebook\", url='https://graph.microsoft.com/v1.0/users/richardlack@hotmail.com/onenote/notebooks/0-D837C5F832A7D046!125')]"
      ]
     },
     "execution_count": 91,
     "metadata": {},
     "output_type": "execute_result"
    }
   ],
   "source": [
    "notebooks = one_note.list_notebooks()\n",
    "notebooks"
   ]
  },
  {
   "cell_type": "code",
   "execution_count": 111,
   "metadata": {},
   "outputs": [
    {
     "data": {
      "text/plain": [
       "Notebook(name=\"Richard's Notebook\", url='https://graph.microsoft.com/v1.0/users/richardlack@hotmail.com/onenote/notebooks/0-D837C5F832A7D046!125')"
      ]
     },
     "execution_count": 111,
     "metadata": {},
     "output_type": "execute_result"
    }
   ],
   "source": [
    "notebook = [n for n in notebooks if n.name==\"Richard's Notebook\"][0]\n",
    "notebook"
   ]
  },
  {
   "cell_type": "code",
   "execution_count": 115,
   "metadata": {},
   "outputs": [
    {
     "data": {
      "text/plain": [
       "[NotebookSection(name='AI', url='https://graph.microsoft.com/v1.0/users/richardlack@hotmail.com/onenote/sections/0-D837C5F832A7D046!10834'),\n",
       " NotebookSection(name='Creative', url='https://graph.microsoft.com/v1.0/users/richardlack@hotmail.com/onenote/sections/0-D837C5F832A7D046!210'),\n",
       " NotebookSection(name='History', url='https://graph.microsoft.com/v1.0/users/richardlack@hotmail.com/onenote/sections/0-D837C5F832A7D046!10715'),\n",
       " NotebookSection(name='Library', url='https://graph.microsoft.com/v1.0/users/richardlack@hotmail.com/onenote/sections/0-D837C5F832A7D046!220'),\n",
       " NotebookSection(name='Planning', url='https://graph.microsoft.com/v1.0/users/richardlack@hotmail.com/onenote/sections/0-D837C5F832A7D046!203'),\n",
       " NotebookSection(name='Projects', url='https://graph.microsoft.com/v1.0/users/richardlack@hotmail.com/onenote/sections/0-D837C5F832A7D046!771'),\n",
       " NotebookSection(name='Quick Notes', url='https://graph.microsoft.com/v1.0/users/richardlack@hotmail.com/onenote/sections/0-D837C5F832A7D046!574'),\n",
       " NotebookSection(name='Radio', url='https://graph.microsoft.com/v1.0/users/richardlack@hotmail.com/onenote/sections/0-D837C5F832A7D046!212'),\n",
       " NotebookSection(name='Saved', url='https://graph.microsoft.com/v1.0/users/richardlack@hotmail.com/onenote/sections/0-D837C5F832A7D046!604')]"
      ]
     },
     "execution_count": 115,
     "metadata": {},
     "output_type": "execute_result"
    }
   ],
   "source": [
    "sections = one_note.list_sections(notebook)\n",
    "sections"
   ]
  },
  {
   "cell_type": "code",
   "execution_count": 116,
   "metadata": {},
   "outputs": [
    {
     "data": {
      "text/plain": [
       "NotebookSection(name='Creative', url='https://graph.microsoft.com/v1.0/users/richardlack@hotmail.com/onenote/sections/0-D837C5F832A7D046!210')"
      ]
     },
     "execution_count": 116,
     "metadata": {},
     "output_type": "execute_result"
    }
   ],
   "source": [
    "section = [s for s in sections if s.name=='Creative'][0]\n",
    "section"
   ]
  },
  {
   "cell_type": "code",
   "execution_count": 117,
   "metadata": {},
   "outputs": [
    {
     "data": {
      "text/plain": [
       "[NotebookPageRef(name='Story Components', url='https://graph.microsoft.com/v1.0/users/richardlack@hotmail.com/onenote/pages/0-958605dfd18b40b68991e0bcaf18e2c1!1-D837C5F832A7D046!210', content_url='https://graph.microsoft.com/v1.0/users/richardlack@hotmail.com/onenote/pages/0-958605dfd18b40b68991e0bcaf18e2c1!1-D837C5F832A7D046!210/content'),\n",
       " NotebookPageRef(name='T shirt designs', url='https://graph.microsoft.com/v1.0/users/richardlack@hotmail.com/onenote/pages/0-216c60e40c141b0e2c336a6f5fb15316!1-D837C5F832A7D046!210', content_url='https://graph.microsoft.com/v1.0/users/richardlack@hotmail.com/onenote/pages/0-216c60e40c141b0e2c336a6f5fb15316!1-D837C5F832A7D046!210/content'),\n",
       " NotebookPageRef(name='Cool names', url='https://graph.microsoft.com/v1.0/users/richardlack@hotmail.com/onenote/pages/0-0bb82fed474515092907e2f4a377ee97!1-D837C5F832A7D046!210', content_url='https://graph.microsoft.com/v1.0/users/richardlack@hotmail.com/onenote/pages/0-0bb82fed474515092907e2f4a377ee97!1-D837C5F832A7D046!210/content'),\n",
       " NotebookPageRef(name='Haiku', url='https://graph.microsoft.com/v1.0/users/richardlack@hotmail.com/onenote/pages/0-01964136b52c4ecf93cdebe4b4a55531!1-D837C5F832A7D046!210', content_url='https://graph.microsoft.com/v1.0/users/richardlack@hotmail.com/onenote/pages/0-01964136b52c4ecf93cdebe4b4a55531!1-D837C5F832A7D046!210/content'),\n",
       " NotebookPageRef(name='Game Mechanics/ideas', url='https://graph.microsoft.com/v1.0/users/richardlack@hotmail.com/onenote/pages/0-48eeeebc65d70a4c006c70db1dd24d51!1-D837C5F832A7D046!210', content_url='https://graph.microsoft.com/v1.0/users/richardlack@hotmail.com/onenote/pages/0-48eeeebc65d70a4c006c70db1dd24d51!1-D837C5F832A7D046!210/content'),\n",
       " NotebookPageRef(name='Fun things to try', url='https://graph.microsoft.com/v1.0/users/richardlack@hotmail.com/onenote/pages/0-0c4a8593e97a408995fefc3b6adeaa69!1-D837C5F832A7D046!210', content_url='https://graph.microsoft.com/v1.0/users/richardlack@hotmail.com/onenote/pages/0-0c4a8593e97a408995fefc3b6adeaa69!1-D837C5F832A7D046!210/content'),\n",
       " NotebookPageRef(name='Programming Game Uncat', url='https://graph.microsoft.com/v1.0/users/richardlack@hotmail.com/onenote/pages/0-c4539b581e3f05f236fe9503782cbbb5!1-D837C5F832A7D046!210', content_url='https://graph.microsoft.com/v1.0/users/richardlack@hotmail.com/onenote/pages/0-c4539b581e3f05f236fe9503782cbbb5!1-D837C5F832A7D046!210/content'),\n",
       " NotebookPageRef(name='Fun Videos', url='https://graph.microsoft.com/v1.0/users/richardlack@hotmail.com/onenote/pages/0-47126088d82b05c6184814c91621f3aa!1-D837C5F832A7D046!210', content_url='https://graph.microsoft.com/v1.0/users/richardlack@hotmail.com/onenote/pages/0-47126088d82b05c6184814c91621f3aa!1-D837C5F832A7D046!210/content'),\n",
       " NotebookPageRef(name='', url='https://graph.microsoft.com/v1.0/users/richardlack@hotmail.com/onenote/pages/0-35fb488908e0084804262aa8352cbe9c!1-D837C5F832A7D046!210', content_url='https://graph.microsoft.com/v1.0/users/richardlack@hotmail.com/onenote/pages/0-35fb488908e0084804262aa8352cbe9c!1-D837C5F832A7D046!210/content'),\n",
       " NotebookPageRef(name='Word game idea', url='https://graph.microsoft.com/v1.0/users/richardlack@hotmail.com/onenote/pages/0-1e8265a73a2905c03140b13e9c5ccf60!1-D837C5F832A7D046!210', content_url='https://graph.microsoft.com/v1.0/users/richardlack@hotmail.com/onenote/pages/0-1e8265a73a2905c03140b13e9c5ccf60!1-D837C5F832A7D046!210/content'),\n",
       " NotebookPageRef(name='MMO mechanic', url='https://graph.microsoft.com/v1.0/users/richardlack@hotmail.com/onenote/pages/0-d2ead93da77803b32ed55db2c521ce24!1-D837C5F832A7D046!210', content_url='https://graph.microsoft.com/v1.0/users/richardlack@hotmail.com/onenote/pages/0-d2ead93da77803b32ed55db2c521ce24!1-D837C5F832A7D046!210/content'),\n",
       " NotebookPageRef(name='Art', url='https://graph.microsoft.com/v1.0/users/richardlack@hotmail.com/onenote/pages/0-5381533faf0e0da221af1e6af2f7c521!1-D837C5F832A7D046!210', content_url='https://graph.microsoft.com/v1.0/users/richardlack@hotmail.com/onenote/pages/0-5381533faf0e0da221af1e6af2f7c521!1-D837C5F832A7D046!210/content'),\n",
       " NotebookPageRef(name='Types of arguments', url='https://graph.microsoft.com/v1.0/users/richardlack@hotmail.com/onenote/pages/0-c59dc53aac49b30302dfeae805173016!1-D837C5F832A7D046!210', content_url='https://graph.microsoft.com/v1.0/users/richardlack@hotmail.com/onenote/pages/0-c59dc53aac49b30302dfeae805173016!1-D837C5F832A7D046!210/content'),\n",
       " NotebookPageRef(name='AI Bots', url='https://graph.microsoft.com/v1.0/users/richardlack@hotmail.com/onenote/pages/0-76a65927916c077525b47d5651578ea1!1-D837C5F832A7D046!210', content_url='https://graph.microsoft.com/v1.0/users/richardlack@hotmail.com/onenote/pages/0-76a65927916c077525b47d5651578ea1!1-D837C5F832A7D046!210/content'),\n",
       " NotebookPageRef(name='Game ideas', url='https://graph.microsoft.com/v1.0/users/richardlack@hotmail.com/onenote/pages/0-a23d6797c900a04f90b0ee1d7d73f3b6!1-D837C5F832A7D046!210', content_url='https://graph.microsoft.com/v1.0/users/richardlack@hotmail.com/onenote/pages/0-a23d6797c900a04f90b0ee1d7d73f3b6!1-D837C5F832A7D046!210/content'),\n",
       " NotebookPageRef(name='Art ideas', url='https://graph.microsoft.com/v1.0/users/richardlack@hotmail.com/onenote/pages/0-0d3d36d6f29a0a1308fc30a43fb08d42!1-D837C5F832A7D046!210', content_url='https://graph.microsoft.com/v1.0/users/richardlack@hotmail.com/onenote/pages/0-0d3d36d6f29a0a1308fc30a43fb08d42!1-D837C5F832A7D046!210/content'),\n",
       " NotebookPageRef(name='Alt Art ideas', url='https://graph.microsoft.com/v1.0/users/richardlack@hotmail.com/onenote/pages/0-afe63c0f04c2a90d2585eeecb925583b!1-D837C5F832A7D046!210', content_url='https://graph.microsoft.com/v1.0/users/richardlack@hotmail.com/onenote/pages/0-afe63c0f04c2a90d2585eeecb925583b!1-D837C5F832A7D046!210/content'),\n",
       " NotebookPageRef(name='Art ideas', url='https://graph.microsoft.com/v1.0/users/richardlack@hotmail.com/onenote/pages/0-fadd6f5c2118250b3309e07a5011f33f!1-D837C5F832A7D046!210', content_url='https://graph.microsoft.com/v1.0/users/richardlack@hotmail.com/onenote/pages/0-fadd6f5c2118250b3309e07a5011f33f!1-D837C5F832A7D046!210/content'),\n",
       " NotebookPageRef(name='Pre instruction art', url='https://graph.microsoft.com/v1.0/users/richardlack@hotmail.com/onenote/pages/0-9d7671c3e427e4051e9586e66d5650bb!1-D837C5F832A7D046!210', content_url='https://graph.microsoft.com/v1.0/users/richardlack@hotmail.com/onenote/pages/0-9d7671c3e427e4051e9586e66d5650bb!1-D837C5F832A7D046!210/content'),\n",
       " NotebookPageRef(name='When you have time', url='https://graph.microsoft.com/v1.0/users/richardlack@hotmail.com/onenote/pages/0-e1d942bbab88016230a5782b8a4b8ce7!1-D837C5F832A7D046!210', content_url='https://graph.microsoft.com/v1.0/users/richardlack@hotmail.com/onenote/pages/0-e1d942bbab88016230a5782b8a4b8ce7!1-D837C5F832A7D046!210/content'),\n",
       " NotebookPageRef(name='Video backgrounds', url='https://graph.microsoft.com/v1.0/users/richardlack@hotmail.com/onenote/pages/0-592b980d4824270712bd62de144844c5!1-D837C5F832A7D046!210', content_url='https://graph.microsoft.com/v1.0/users/richardlack@hotmail.com/onenote/pages/0-592b980d4824270712bd62de144844c5!1-D837C5F832A7D046!210/content'),\n",
       " NotebookPageRef(name='Rap w Token', url='https://graph.microsoft.com/v1.0/users/richardlack@hotmail.com/onenote/pages/0-bb2f2a25812b00e716a21f2c522afee1!1-D837C5F832A7D046!210', content_url='https://graph.microsoft.com/v1.0/users/richardlack@hotmail.com/onenote/pages/0-bb2f2a25812b00e716a21f2c522afee1!1-D837C5F832A7D046!210/content'),\n",
       " NotebookPageRef(name='Make a wheel spinner', url='https://graph.microsoft.com/v1.0/users/richardlack@hotmail.com/onenote/pages/0-0600217e9b3f0dfe2de5255f00688735!1-D837C5F832A7D046!210', content_url='https://graph.microsoft.com/v1.0/users/richardlack@hotmail.com/onenote/pages/0-0600217e9b3f0dfe2de5255f00688735!1-D837C5F832A7D046!210/content'),\n",
       " NotebookPageRef(name='Gameplay', url='https://graph.microsoft.com/v1.0/users/richardlack@hotmail.com/onenote/pages/0-21f6c14ba3f201f721e23ce92320fe9b!1-D837C5F832A7D046!210', content_url='https://graph.microsoft.com/v1.0/users/richardlack@hotmail.com/onenote/pages/0-21f6c14ba3f201f721e23ce92320fe9b!1-D837C5F832A7D046!210/content'),\n",
       " NotebookPageRef(name='AI Creatures', url='https://graph.microsoft.com/v1.0/users/richardlack@hotmail.com/onenote/pages/0-6184445d5eeb08ae1f0c27e9b544af46!1-D837C5F832A7D046!210', content_url='https://graph.microsoft.com/v1.0/users/richardlack@hotmail.com/onenote/pages/0-6184445d5eeb08ae1f0c27e9b544af46!1-D837C5F832A7D046!210/content'),\n",
       " NotebookPageRef(name='Neural Animal Noise Synthesis', url='https://graph.microsoft.com/v1.0/users/richardlack@hotmail.com/onenote/pages/0-2a7327cbda1505862092ec36e06b7564!1-D837C5F832A7D046!210', content_url='https://graph.microsoft.com/v1.0/users/richardlack@hotmail.com/onenote/pages/0-2a7327cbda1505862092ec36e06b7564!1-D837C5F832A7D046!210/content'),\n",
       " NotebookPageRef(name='Programming game', url='https://graph.microsoft.com/v1.0/users/richardlack@hotmail.com/onenote/pages/0-526441de4bd3003c1af8804310b0b2a2!1-D837C5F832A7D046!210', content_url='https://graph.microsoft.com/v1.0/users/richardlack@hotmail.com/onenote/pages/0-526441de4bd3003c1af8804310b0b2a2!1-D837C5F832A7D046!210/content'),\n",
       " NotebookPageRef(name='Game idea: word directions', url='https://graph.microsoft.com/v1.0/users/richardlack@hotmail.com/onenote/pages/0-40f7455e7f7c07553cf0e7f385a017cc!1-D837C5F832A7D046!210', content_url='https://graph.microsoft.com/v1.0/users/richardlack@hotmail.com/onenote/pages/0-40f7455e7f7c07553cf0e7f385a017cc!1-D837C5F832A7D046!210/content'),\n",
       " NotebookPageRef(name='Virtual World Game', url='https://graph.microsoft.com/v1.0/users/richardlack@hotmail.com/onenote/pages/0-305aa1cea2fc094134c70c5647bcb509!1-D837C5F832A7D046!210', content_url='https://graph.microsoft.com/v1.0/users/richardlack@hotmail.com/onenote/pages/0-305aa1cea2fc094134c70c5647bcb509!1-D837C5F832A7D046!210/content'),\n",
       " NotebookPageRef(name='Space Ship components', url='https://graph.microsoft.com/v1.0/users/richardlack@hotmail.com/onenote/pages/0-c065e624c1940baf21ce892f991b928b!1-D837C5F832A7D046!210', content_url='https://graph.microsoft.com/v1.0/users/richardlack@hotmail.com/onenote/pages/0-c065e624c1940baf21ce892f991b928b!1-D837C5F832A7D046!210/content'),\n",
       " NotebookPageRef(name='Game ideas', url='https://graph.microsoft.com/v1.0/users/richardlack@hotmail.com/onenote/pages/0-3c02700704b7070d3f47b4209db12dc1!1-D837C5F832A7D046!210', content_url='https://graph.microsoft.com/v1.0/users/richardlack@hotmail.com/onenote/pages/0-3c02700704b7070d3f47b4209db12dc1!1-D837C5F832A7D046!210/content'),\n",
       " NotebookPageRef(name='Game mechanics', url='https://graph.microsoft.com/v1.0/users/richardlack@hotmail.com/onenote/pages/0-6e952c1fac8b05df32447010597804a4!1-D837C5F832A7D046!210', content_url='https://graph.microsoft.com/v1.0/users/richardlack@hotmail.com/onenote/pages/0-6e952c1fac8b05df32447010597804a4!1-D837C5F832A7D046!210/content'),\n",
       " NotebookPageRef(name='Boids with Pygame + Numpy/pandas', url='https://graph.microsoft.com/v1.0/users/richardlack@hotmail.com/onenote/pages/0-a25554cbfb1a01bc12a3b30a8c2dcbe6!1-D837C5F832A7D046!210', content_url='https://graph.microsoft.com/v1.0/users/richardlack@hotmail.com/onenote/pages/0-a25554cbfb1a01bc12a3b30a8c2dcbe6!1-D837C5F832A7D046!210/content'),\n",
       " NotebookPageRef(name='Digital flute project', url='https://graph.microsoft.com/v1.0/users/richardlack@hotmail.com/onenote/pages/0-c2044b8e41d40003165331057eaf6452!1-D837C5F832A7D046!210', content_url='https://graph.microsoft.com/v1.0/users/richardlack@hotmail.com/onenote/pages/0-c2044b8e41d40003165331057eaf6452!1-D837C5F832A7D046!210/content'),\n",
       " NotebookPageRef(name='Sounds game', url='https://graph.microsoft.com/v1.0/users/richardlack@hotmail.com/onenote/pages/0-9cf440336ff80f160383475bb0e880d0!1-D837C5F832A7D046!210', content_url='https://graph.microsoft.com/v1.0/users/richardlack@hotmail.com/onenote/pages/0-9cf440336ff80f160383475bb0e880d0!1-D837C5F832A7D046!210/content'),\n",
       " NotebookPageRef(name='Bumper music', url='https://graph.microsoft.com/v1.0/users/richardlack@hotmail.com/onenote/pages/0-095901b1ae2489052e1000b893d8205b!1-D837C5F832A7D046!210', content_url='https://graph.microsoft.com/v1.0/users/richardlack@hotmail.com/onenote/pages/0-095901b1ae2489052e1000b893d8205b!1-D837C5F832A7D046!210/content'),\n",
       " NotebookPageRef(name='Game idea spaceships', url='https://graph.microsoft.com/v1.0/users/richardlack@hotmail.com/onenote/pages/0-d2914abe12f0760e3396ddbb2ba6f291!1-D837C5F832A7D046!210', content_url='https://graph.microsoft.com/v1.0/users/richardlack@hotmail.com/onenote/pages/0-d2914abe12f0760e3396ddbb2ba6f291!1-D837C5F832A7D046!210/content'),\n",
       " NotebookPageRef(name='Games to try', url='https://graph.microsoft.com/v1.0/users/richardlack@hotmail.com/onenote/pages/0-fe5268fc43b6065a31cd410af5179f0a!1-D837C5F832A7D046!210', content_url='https://graph.microsoft.com/v1.0/users/richardlack@hotmail.com/onenote/pages/0-fe5268fc43b6065a31cd410af5179f0a!1-D837C5F832A7D046!210/content'),\n",
       " NotebookPageRef(name='Startup ideas', url='https://graph.microsoft.com/v1.0/users/richardlack@hotmail.com/onenote/pages/0-e92748cbc967990922b3d08774cd8a29!1-D837C5F832A7D046!210', content_url='https://graph.microsoft.com/v1.0/users/richardlack@hotmail.com/onenote/pages/0-e92748cbc967990922b3d08774cd8a29!1-D837C5F832A7D046!210/content'),\n",
       " NotebookPageRef(name='Old box artwork 2016', url='https://graph.microsoft.com/v1.0/users/richardlack@hotmail.com/onenote/pages/0-deb14d1d9bd65802388def2e7543427f!1-D837C5F832A7D046!210', content_url='https://graph.microsoft.com/v1.0/users/richardlack@hotmail.com/onenote/pages/0-deb14d1d9bd65802388def2e7543427f!1-D837C5F832A7D046!210/content'),\n",
       " NotebookPageRef(name='Game: wordslap', url='https://graph.microsoft.com/v1.0/users/richardlack@hotmail.com/onenote/pages/0-59fd066f2c02580300ac0cb8c7c45d01!1-D837C5F832A7D046!210', content_url='https://graph.microsoft.com/v1.0/users/richardlack@hotmail.com/onenote/pages/0-59fd066f2c02580300ac0cb8c7c45d01!1-D837C5F832A7D046!210/content'),\n",
       " NotebookPageRef(name='Ant evolution', url='https://graph.microsoft.com/v1.0/users/richardlack@hotmail.com/onenote/pages/0-a95c25baa4d67d0625d66ebb65f171c1!1-D837C5F832A7D046!210', content_url='https://graph.microsoft.com/v1.0/users/richardlack@hotmail.com/onenote/pages/0-a95c25baa4d67d0625d66ebb65f171c1!1-D837C5F832A7D046!210/content'),\n",
       " NotebookPageRef(name='Astrophysics questions', url='https://graph.microsoft.com/v1.0/users/richardlack@hotmail.com/onenote/pages/0-e49dc200d3c8b8062b5820429487b2d5!1-D837C5F832A7D046!210', content_url='https://graph.microsoft.com/v1.0/users/richardlack@hotmail.com/onenote/pages/0-e49dc200d3c8b8062b5820429487b2d5!1-D837C5F832A7D046!210/content'),\n",
       " NotebookPageRef(name='Voice game ideas', url='https://graph.microsoft.com/v1.0/users/richardlack@hotmail.com/onenote/pages/0-adcd567553600abc1f2f2b8acdb88cc9!1-D837C5F832A7D046!210', content_url='https://graph.microsoft.com/v1.0/users/richardlack@hotmail.com/onenote/pages/0-adcd567553600abc1f2f2b8acdb88cc9!1-D837C5F832A7D046!210/content'),\n",
       " NotebookPageRef(name='Numbers', url='https://graph.microsoft.com/v1.0/users/richardlack@hotmail.com/onenote/pages/0-c425ee99c4ee0743396120a8c0804799!1-D837C5F832A7D046!210', content_url='https://graph.microsoft.com/v1.0/users/richardlack@hotmail.com/onenote/pages/0-c425ee99c4ee0743396120a8c0804799!1-D837C5F832A7D046!210/content'),\n",
       " NotebookPageRef(name='Read this: Art, Shame, Life', url='https://graph.microsoft.com/v1.0/users/richardlack@hotmail.com/onenote/pages/0-927c33c916f00baf1edbb54f336f86eb!1-D837C5F832A7D046!210', content_url='https://graph.microsoft.com/v1.0/users/richardlack@hotmail.com/onenote/pages/0-927c33c916f00baf1edbb54f336f86eb!1-D837C5F832A7D046!210/content'),\n",
       " NotebookPageRef(name='My Language', url='https://graph.microsoft.com/v1.0/users/richardlack@hotmail.com/onenote/pages/0-76e939e3d6de04cd17e6167fe32e1ea9!1-D837C5F832A7D046!210', content_url='https://graph.microsoft.com/v1.0/users/richardlack@hotmail.com/onenote/pages/0-76e939e3d6de04cd17e6167fe32e1ea9!1-D837C5F832A7D046!210/content'),\n",
       " NotebookPageRef(name='Music Ideas', url='https://graph.microsoft.com/v1.0/users/richardlack@hotmail.com/onenote/pages/0-8cc4b2ea8c6846918cb4572731689dd9!1-D837C5F832A7D046!210', content_url='https://graph.microsoft.com/v1.0/users/richardlack@hotmail.com/onenote/pages/0-8cc4b2ea8c6846918cb4572731689dd9!1-D837C5F832A7D046!210/content'),\n",
       " NotebookPageRef(name='Songwriting', url='https://graph.microsoft.com/v1.0/users/richardlack@hotmail.com/onenote/pages/0-24cc270a027542010b06b02f6e0ae932!1-D837C5F832A7D046!210', content_url='https://graph.microsoft.com/v1.0/users/richardlack@hotmail.com/onenote/pages/0-24cc270a027542010b06b02f6e0ae932!1-D837C5F832A7D046!210/content'),\n",
       " NotebookPageRef(name='Uncat', url='https://graph.microsoft.com/v1.0/users/richardlack@hotmail.com/onenote/pages/0-889de0989c3d040603de62373085fb52!1-D837C5F832A7D046!210', content_url='https://graph.microsoft.com/v1.0/users/richardlack@hotmail.com/onenote/pages/0-889de0989c3d040603de62373085fb52!1-D837C5F832A7D046!210/content'),\n",
       " NotebookPageRef(name='Computer-invented spoken language', url='https://graph.microsoft.com/v1.0/users/richardlack@hotmail.com/onenote/pages/0-bc9723550e260ad2198a537bbf38de4c!1-D837C5F832A7D046!210', content_url='https://graph.microsoft.com/v1.0/users/richardlack@hotmail.com/onenote/pages/0-bc9723550e260ad2198a537bbf38de4c!1-D837C5F832A7D046!210/content'),\n",
       " NotebookPageRef(name='Igloo', url='https://graph.microsoft.com/v1.0/users/richardlack@hotmail.com/onenote/pages/0-e65615a167e9460f0aeabc964774a3cf!1-D837C5F832A7D046!210', content_url='https://graph.microsoft.com/v1.0/users/richardlack@hotmail.com/onenote/pages/0-e65615a167e9460f0aeabc964774a3cf!1-D837C5F832A7D046!210/content'),\n",
       " NotebookPageRef(name='Mastering programming', url='https://graph.microsoft.com/v1.0/users/richardlack@hotmail.com/onenote/pages/0-e3fe9dce56e02403345206cd7d33fc39!1-D837C5F832A7D046!210', content_url='https://graph.microsoft.com/v1.0/users/richardlack@hotmail.com/onenote/pages/0-e3fe9dce56e02403345206cd7d33fc39!1-D837C5F832A7D046!210/content'),\n",
       " NotebookPageRef(name='Bayesian parameter optimization', url='https://graph.microsoft.com/v1.0/users/richardlack@hotmail.com/onenote/pages/0-d12399f2cf9d06ce2f53c97310ab2cd7!1-D837C5F832A7D046!210', content_url='https://graph.microsoft.com/v1.0/users/richardlack@hotmail.com/onenote/pages/0-d12399f2cf9d06ce2f53c97310ab2cd7!1-D837C5F832A7D046!210/content'),\n",
       " NotebookPageRef(name='Drone Flying 2', url='https://graph.microsoft.com/v1.0/users/richardlack@hotmail.com/onenote/pages/0-f2988db824c706ec32f506dd65f6a795!1-D837C5F832A7D046!210', content_url='https://graph.microsoft.com/v1.0/users/richardlack@hotmail.com/onenote/pages/0-f2988db824c706ec32f506dd65f6a795!1-D837C5F832A7D046!210/content'),\n",
       " NotebookPageRef(name='AI Competitions', url='https://graph.microsoft.com/v1.0/users/richardlack@hotmail.com/onenote/pages/0-8e837e00253805a73fd8593921a0f071!1-D837C5F832A7D046!210', content_url='https://graph.microsoft.com/v1.0/users/richardlack@hotmail.com/onenote/pages/0-8e837e00253805a73fd8593921a0f071!1-D837C5F832A7D046!210/content'),\n",
       " NotebookPageRef(name='Codingame.com bots', url='https://graph.microsoft.com/v1.0/users/richardlack@hotmail.com/onenote/pages/0-f40561ff1e10270303e7457eb28f358e!1-D837C5F832A7D046!210', content_url='https://graph.microsoft.com/v1.0/users/richardlack@hotmail.com/onenote/pages/0-f40561ff1e10270303e7457eb28f358e!1-D837C5F832A7D046!210/content'),\n",
       " NotebookPageRef(name='Game jams', url='https://graph.microsoft.com/v1.0/users/richardlack@hotmail.com/onenote/pages/0-87942f5ef333de0637e0559aebef8b38!1-D837C5F832A7D046!210', content_url='https://graph.microsoft.com/v1.0/users/richardlack@hotmail.com/onenote/pages/0-87942f5ef333de0637e0559aebef8b38!1-D837C5F832A7D046!210/content'),\n",
       " NotebookPageRef(name='Read', url='https://graph.microsoft.com/v1.0/users/richardlack@hotmail.com/onenote/pages/0-109331665a8fa102207019ec4152167e!1-D837C5F832A7D046!210', content_url='https://graph.microsoft.com/v1.0/users/richardlack@hotmail.com/onenote/pages/0-109331665a8fa102207019ec4152167e!1-D837C5F832A7D046!210/content'),\n",
       " NotebookPageRef(name='Yellow Ledbetter', url='https://graph.microsoft.com/v1.0/users/richardlack@hotmail.com/onenote/pages/0-05b0c55659a45c0c3ef9e98fdc8ff048!1-D837C5F832A7D046!210', content_url='https://graph.microsoft.com/v1.0/users/richardlack@hotmail.com/onenote/pages/0-05b0c55659a45c0c3ef9e98fdc8ff048!1-D837C5F832A7D046!210/content'),\n",
       " NotebookPageRef(name='Direction finder project', url='https://graph.microsoft.com/v1.0/users/richardlack@hotmail.com/onenote/pages/0-b750add8e1a5040e11a38bbcf331825b!1-D837C5F832A7D046!210', content_url='https://graph.microsoft.com/v1.0/users/richardlack@hotmail.com/onenote/pages/0-b750add8e1a5040e11a38bbcf331825b!1-D837C5F832A7D046!210/content'),\n",
       " NotebookPageRef(name='(9:08:39 AM) Rico: I stopped for breakfast', url='https://graph.microsoft.com/v1.0/users/richardlack@hotmail.com/onenote/pages/0-a4893b889593081d29052504873c87bf!1-D837C5F832A7D046!210', content_url='https://graph.microsoft.com/v1.0/users/richardlack@hotmail.com/onenote/pages/0-a4893b889593081d29052504873c87bf!1-D837C5F832A7D046!210/content'),\n",
       " NotebookPageRef(name='For publication', url='https://graph.microsoft.com/v1.0/users/richardlack@hotmail.com/onenote/pages/0-1e2c19439855096b1c1ec4fa965298c3!1-D837C5F832A7D046!210', content_url='https://graph.microsoft.com/v1.0/users/richardlack@hotmail.com/onenote/pages/0-1e2c19439855096b1c1ec4fa965298c3!1-D837C5F832A7D046!210/content'),\n",
       " NotebookPageRef(name='Computer assisted art', url='https://graph.microsoft.com/v1.0/users/richardlack@hotmail.com/onenote/pages/0-bd2964c527437d0708ed3daf079685b2!1-D837C5F832A7D046!210', content_url='https://graph.microsoft.com/v1.0/users/richardlack@hotmail.com/onenote/pages/0-bd2964c527437d0708ed3daf079685b2!1-D837C5F832A7D046!210/content'),\n",
       " NotebookPageRef(name='Drone audio Snoqualmie 5/21/6', url='https://graph.microsoft.com/v1.0/users/richardlack@hotmail.com/onenote/pages/0-af0b21a705ba330f1ffb6c2ccc37319f!1-D837C5F832A7D046!210', content_url='https://graph.microsoft.com/v1.0/users/richardlack@hotmail.com/onenote/pages/0-af0b21a705ba330f1ffb6c2ccc37319f!1-D837C5F832A7D046!210/content'),\n",
       " NotebookPageRef(name='Survival gear', url='https://graph.microsoft.com/v1.0/users/richardlack@hotmail.com/onenote/pages/0-1d33b8bdfb9032042aa1f6c4deaf0543!1-D837C5F832A7D046!210', content_url='https://graph.microsoft.com/v1.0/users/richardlack@hotmail.com/onenote/pages/0-1d33b8bdfb9032042aa1f6c4deaf0543!1-D837C5F832A7D046!210/content'),\n",
       " NotebookPageRef(name='Drone Flying - Hubsan', url='https://graph.microsoft.com/v1.0/users/richardlack@hotmail.com/onenote/pages/0-50b6fedba35f42c6b54438254cbc72e5!1-D837C5F832A7D046!210', content_url='https://graph.microsoft.com/v1.0/users/richardlack@hotmail.com/onenote/pages/0-50b6fedba35f42c6b54438254cbc72e5!1-D837C5F832A7D046!210/content'),\n",
       " NotebookPageRef(name='Depression, Anxiety', url='https://graph.microsoft.com/v1.0/users/richardlack@hotmail.com/onenote/pages/0-836de80c8a3602b51c91d2d52330d3dc!1-D837C5F832A7D046!210', content_url='https://graph.microsoft.com/v1.0/users/richardlack@hotmail.com/onenote/pages/0-836de80c8a3602b51c91d2d52330d3dc!1-D837C5F832A7D046!210/content'),\n",
       " NotebookPageRef(name='Snow Shelter', url='https://graph.microsoft.com/v1.0/users/richardlack@hotmail.com/onenote/pages/0-758b3059f8a80d9d032b426bf6b2e3a8!1-D837C5F832A7D046!210', content_url='https://graph.microsoft.com/v1.0/users/richardlack@hotmail.com/onenote/pages/0-758b3059f8a80d9d032b426bf6b2e3a8!1-D837C5F832A7D046!210/content')]"
      ]
     },
     "execution_count": 117,
     "metadata": {},
     "output_type": "execute_result"
    }
   ],
   "source": [
    "pages = one_note.list_pages_in_section(section)\n",
    "pages"
   ]
  },
  {
   "cell_type": "code",
   "execution_count": 118,
   "metadata": {},
   "outputs": [
    {
     "data": {
      "text/plain": [
       "NotebookPageRef(name='Game Mechanics/ideas', url='https://graph.microsoft.com/v1.0/users/richardlack@hotmail.com/onenote/pages/0-48eeeebc65d70a4c006c70db1dd24d51!1-D837C5F832A7D046!210', content_url='https://graph.microsoft.com/v1.0/users/richardlack@hotmail.com/onenote/pages/0-48eeeebc65d70a4c006c70db1dd24d51!1-D837C5F832A7D046!210/content')"
      ]
     },
     "execution_count": 118,
     "metadata": {},
     "output_type": "execute_result"
    }
   ],
   "source": [
    "page = [p for p in pages if p.name=='Game Mechanics/ideas'][0]\n",
    "page"
   ]
  },
  {
   "cell_type": "markdown",
   "metadata": {},
   "source": [
    "Notes on working with notebooks in graphAPI while I figure this out.\n",
    "\n",
    "https://graph.microsoft.com/v1.0/me/onenote/notebooks?$select=id,self,displayName\n",
    "\n",
    "https://learn.microsoft.com/en-us/graph/onenote-best-practices\n",
    "\n",
    "### Get all the sections\n",
    "https://graph.microsoft.com/v1.0/me/onenote/notebooks?$expand=sections($select=id,self,displayName),sectionGroups($select=id,self,displayName)&$select=id,self,displayName\n",
    "\n",
    "### Get all the pages in a section\n",
    "\n",
    "Default ordering is modified by date, and it's faster when you sort by anything else.  So try:\n",
    "\n",
    "GET ~/sections/{id}/pages?$select=id,title,createdDateTime&$orderby=createdDateTime\n",
    "https://graph.microsoft.com/v1.0/me/onenote/sections/0-D837C5F832A7D046!11500/pages?$select=id,title,createdDateTime&$orderby=createdDateTime\n",
    "\n",
    "\n",
    "https://graph.microsoft.com/v1.0/users/richardlack@hotmail.com/onenote/sections/0-D837C5F832A7D046!64051/pages?$select=id,self,title,contenturl\n",
    "\n",
    "\n",
    "* [x] Why is it not listing all the pages? Maybe I need to involve section groups. No it was because you need to handle data chunking.\n",
    "\n",
    "### Get the content of a page\n",
    "https://graph.microsoft.com/v1.0/me/onenote\n",
    "../pages/{page-id}/content\n",
    "example page id:\n",
    "    0-bfa9b56eccd54ae681ee7002a018ee2f!1-D837C5F832A7D046!11500\n",
    "\n",
    "https://graph.microsoft.com/v1.0/me/onenote/pages/0-bfa9b56eccd54ae681ee7002a018ee2f!1-D837C5F832A7D046!11500/content\n",
    "\n",
    "https://stackoverflow.com/questions/328356/extracting-text-from-html-file-using-python"
   ]
  },
  {
   "cell_type": "markdown",
   "metadata": {},
   "source": [
    "### Extracting text from a page"
   ]
  },
  {
   "cell_type": "markdown",
   "metadata": {},
   "source": [
    "One Note page content is returned to as as html.  We'll use Beautiful Soup to extract the text.\n",
    "\n",
    "* [Beautiful Soup docs](https://beautiful-soup-4.readthedocs.io/en/latest/#quick-start)\n",
    "* [Quick and dirty Beautiful Soup example on Stack Exchange](https://stackoverflow.com/questions/328356/extracting-text-from-html-file-using-python)"
   ]
  },
  {
   "cell_type": "code",
   "execution_count": 130,
   "metadata": {},
   "outputs": [
    {
     "data": {
      "text/plain": [
       "'<html lang=\"en-US\">\\r\\n\\t<head>\\r\\n\\t\\t<title>Game Mechanics/ideas</title>\\r\\n\\t\\t<meta http-equiv=\"Content-Type\" content=\"text/html; charset=utf-8\" />\\r\\n\\t\\t<meta name=\"created\" content=\"2022-09-23T15:48:00.0000000\" />\\r\\n\\t</head>\\r\\n\\t<body data-absolute-enabled=\"true\" style=\"font-family:Calibri;font-size:11pt\">\\r\\n\\t\\t<div style=\"position:absolute;left:48px;top:115px;width:576px\">\\r\\n\\t\\t\\t<ul>\\r\\n\\t\\t\\t\\t<li>Ai dungeon multiplayer but each player has secret goals</li>\\r\\n\\t\\t\\t\\t<br />\\r\\n\\t\\t\\t\\t<li>A book that gives you goals</li>\\r\\n\\t\\t\\t\\t<li>You achieve the goals and get a currency</li>\\r\\n\\t\\t\\t\\t<li>A la dinkum</li>\\r\\n\\t\\t\\t\\t<li>Lots of sound effects and animations, like when you get currency it sounds like little clapping sounds</li>\\r\\n\\t\\t\\t</ul>\\r\\n\\t\\t\\t<br />\\r\\n\\t\\t\\t<br />\\r\\n\\t\\t\\t<ul>\\r\\n\\t\\t\\t\\t<li>When you&#39;re hungry, the world turns grey</li>\\r\\n\\t\\t\\t\\t<li>Rare things you can sell</li>\\r\\n\\t\\t\\t\\t<li>Everything is sellable</li>\\r\\n\\t\\t\\t\\t<li>Need a cool zoo/menagerie in the palace</li>\\r\\n\\t\\t\\t\\t<li>Disease- you gotta lay down on a couch and get leeched</li>\\r\\n\\t\\t\\t\\t<li><p style=\"margin-top:0pt;margin-bottom:0pt\">Little dudes running around that fetch stuff for you and manage inventory</p>\\r\\n\\t\\t\\t\\t<ul>\\r\\n\\t\\t\\t\\t\\t<li style=\"list-style-type:circle\">Basically like a manual version of the conveyor system in space eng</li>\\r\\n\\t\\t\\t\\t</ul>\\r\\n\\t\\t\\t\\t</li>\\r\\n\\t\\t\\t</ul>\\r\\n\\t\\t\\t<br />\\r\\n\\t\\t</div>\\r\\n\\t</body>\\r\\n</html>\\r\\n'"
      ]
     },
     "execution_count": 130,
     "metadata": {},
     "output_type": "execute_result"
    }
   ],
   "source": [
    "response = one_note._request_plain(page.content_url)\n",
    "response.text"
   ]
  },
  {
   "cell_type": "code",
   "execution_count": 137,
   "metadata": {},
   "outputs": [
    {
     "data": {
      "text/plain": [
       "\"\\n\\nGame Mechanics/ideas\\n\\n\\n\\n\\n\\n\\nAi dungeon multiplayer but each player has secret goals\\n\\nA book that gives you goals\\nYou achieve the goals and get a currency\\nA la dinkum\\nLots of sound effects and animations, like when you get currency it sounds like little clapping sounds\\n\\n\\n\\n\\nWhen you're hungry, the world turns grey\\nRare things you can sell\\nEverything is sellable\\nNeed a cool zoo/menagerie in the palace\\nDisease- you gotta lay down on a couch and get leeched\\nLittle dudes running around that fetch stuff for you and manage inventory\\n\\nBasically like a manual version of the conveyor system in space eng\\n\\n\\n\\n\\n\\n\\n\\n\""
      ]
     },
     "execution_count": 137,
     "metadata": {},
     "output_type": "execute_result"
    }
   ],
   "source": [
    "soup = BeautifulSoup(response.text, features='html.parser')\n",
    "text = soup.get_text()\n",
    "text"
   ]
  },
  {
   "cell_type": "markdown",
   "metadata": {},
   "source": [
    "Let's put this in a text file so we can compare it side by side with the original OneNote."
   ]
  },
  {
   "cell_type": "code",
   "execution_count": 141,
   "metadata": {},
   "outputs": [],
   "source": [
    "with open('local/x.txt', 'w') as f:\n",
    "    f.write(text)"
   ]
  },
  {
   "cell_type": "markdown",
   "metadata": {},
   "source": [
    "This is ok, but certain context is lost by not preserving bullet points.  Let's try the `markdownify` library, and represent the HTML as markdown and see how that goes."
   ]
  },
  {
   "cell_type": "code",
   "execution_count": 142,
   "metadata": {},
   "outputs": [],
   "source": [
    "from markdownify import markdownify as md"
   ]
  },
  {
   "cell_type": "code",
   "execution_count": 145,
   "metadata": {},
   "outputs": [
    {
     "data": {
      "text/plain": [
       "\"\\n\\nGame Mechanics/ideas\\n\\n\\n\\n\\n\\n* Ai dungeon multiplayer but each player has secret goals\\n  \\n* A book that gives you goals\\n* You achieve the goals and get a currency\\n* A la dinkum\\n* Lots of sound effects and animations, like when you get currency it sounds like little clapping sounds\\n\\n\\n  \\n\\n  \\n\\n* When you're hungry, the world turns grey\\n* Rare things you can sell\\n* Everything is sellable\\n* Need a cool zoo/menagerie in the palace\\n* Disease- you gotta lay down on a couch and get leeched\\n* Little dudes running around that fetch stuff for you and manage inventory\\n\\n\\n\\t+ Basically like a manual version of the conveyor system in space eng\\n\\n\\n  \\n\\n\\n\\n\\n\""
      ]
     },
     "execution_count": 145,
     "metadata": {},
     "output_type": "execute_result"
    }
   ],
   "source": [
    "md_text = md(response.text)\n",
    "md_text"
   ]
  },
  {
   "cell_type": "code",
   "execution_count": 164,
   "metadata": {},
   "outputs": [],
   "source": [
    "with open('local/x.md', 'w') as f:\n",
    "    f.write(md_text)"
   ]
  },
  {
   "cell_type": "code",
   "execution_count": 160,
   "metadata": {},
   "outputs": [],
   "source": [
    "#page = one_note.find_page_from_path(\"Richard's Notebook\", \"Projects\", \"Interviewing\")\n",
    "page = one_note.find_page_from_path(\"Richard's Notebook\", \"Planning\", \"Bodybuilding Foods\")"
   ]
  },
  {
   "cell_type": "markdown",
   "metadata": {},
   "source": []
  },
  {
   "cell_type": "code",
   "execution_count": 161,
   "metadata": {},
   "outputs": [
    {
     "data": {
      "text/plain": [
       "NotebookPageRef(name='Bodybuilding Foods', url='https://graph.microsoft.com/v1.0/users/richardlack@hotmail.com/onenote/pages/0-5bfbaecfa7754726a0c159bcad20f6eb!1-D837C5F832A7D046!203', content_url='https://graph.microsoft.com/v1.0/users/richardlack@hotmail.com/onenote/pages/0-5bfbaecfa7754726a0c159bcad20f6eb!1-D837C5F832A7D046!203/content')"
      ]
     },
     "execution_count": 161,
     "metadata": {},
     "output_type": "execute_result"
    }
   ],
   "source": [
    "page"
   ]
  },
  {
   "cell_type": "code",
   "execution_count": 162,
   "metadata": {},
   "outputs": [],
   "source": [
    "page_html = one_note.get_page_html(page)"
   ]
  },
  {
   "cell_type": "code",
   "execution_count": 163,
   "metadata": {},
   "outputs": [],
   "source": [
    "md_text = md(page_html.content)"
   ]
  },
  {
   "cell_type": "code",
   "execution_count": 170,
   "metadata": {},
   "outputs": [
    {
     "data": {
      "text/plain": [
       "'\\n\\nBodybuilding Foods\\n\\n\\n\\n\\n\\n  \\n\\n<http://www.bodybuilding.com/fun/huge-on-a-hundred.html>\\n\\n\\n  \\n\\nBodybuilding foods for $100\\n\\n\\n  \\n\\nproteins\\n--------\\n\\n\\nChicken thighs 15 lbs\\n\\n\\nJumbo eggs, 4 dozen (not large eggs. See if you can find them humane)\\n\\n\\nred meat, such as london broil. Lean beef.\\n\\n\\nCottage cheese. Lots of casein and low fat.\\n\\n\\nStrawberry preserves\\n\\n\\nPears apples or peaches for cottage cheese\\n\\n\\n  \\n\\nFruits, Veggies\\n---------------\\n\\n\\nlike kale\\n\\n\\nZucchini\\n\\n\\nCabbage (fiber, vitamin c)\\n\\n\\nBananas\\n\\n\\nApples\\n\\n\\n  \\n\\n  \\n\\nCarbs\\n-----\\n\\n\\nPotatoes\\n\\n\\nOats\\n\\n\\nRice\\n\\n\\n  \\n\\n  \\n\\nMeal plan\\n\\n\\nBreakfast: 6 scrambled eggs and oatmeal\\n\\n\\n8-9oz red meat meal each day, he used London Broil\\n\\n\\nEat a 16oz of cottage cheese before bed\\n\\n\\n  \\n\\nCreatine 4x daily during loading phase\\n\\n\\n  \\n\\n  \\n\\n  \\n\\n  \\n\\n  \\n\\n  \\n\\nContainers to hold chicken\\n\\n\\nStock pot\\n\\n\\npropane\\n\\n\\n  \\n\\n  \\n\\nResearch\\n--------\\n\\n\\nHow many grams of protein do I need?\\n\\n\\nWays to cook thighs and legs\\n\\n\\nHow many meals per day should I eat?\\n\\n\\n  \\n\\n  \\n\\nMeal 1\\n------\\n\\n\\n2 scoops whey protein\\n\\n\\n  \\n\\nMeal 2\\n------\\n\\n\\n6 jumbo eggs\\n\\n\\nOats 1 cup water cinnamon salt\\n\\n\\n1 banana\\n\\n\\nCreatine\\n\\n\\nMultivitamin\\n\\n\\n  \\n\\nMeal 3\\n------\\n\\n\\nBoneless skinless chicken thighs 8oz sauteed w/olive oil, paprika, salt, parsley\\n\\n\\nLong grain white rice, w olive oil, salt, parsley\\n\\n\\nCabbage. 1 cup shredded and suteed in olive oil w salt and pepper\\n\\n\\ncreatine\\n\\n\\n  \\n\\nMeal 4\\n------\\n\\n\\n2 scoops whey protein\\n\\n\\n  \\n\\nMeal 5\\n------\\n\\n\\nLondon broil pan fried rare w/olive oil, salt, pepper\\n\\n\\nBaked potato, microwaved\\n\\n\\n1 cup cabbage shredded and sauteed in olive oil w salt and pepper\\n\\n\\ncreatine\\n\\n\\n  \\n\\nMeal 6\\n------\\n\\n\\nSame as meal 3, chicken\\n\\n\\ncreatine\\n\\n\\n  \\n\\nMeal 7\\n------\\n\\n\\nCottage Cheese, 2 cups, with cinnamon. 1/2 cup fruit (pears, peaches, apple)\\n\\n\\n  \\n\\nHow does 7 meals per day actually map to a daily schedule?\\n\\n\\n  \\n\\n\\n\\n|  |  |\\n| --- | --- |\\n| 6a | wake - meal1 |\\n| 12p |  |\\n| 9p |  meal 7 |\\n| 10p |  bed |\\n\\n\\n  \\n\\n  \\n\\n\\n\\n\\n'"
      ]
     },
     "execution_count": 170,
     "metadata": {},
     "output_type": "execute_result"
    }
   ],
   "source": [
    "one_note.get_page_md(page)"
   ]
  },
  {
   "cell_type": "code",
   "execution_count": null,
   "metadata": {},
   "outputs": [],
   "source": []
  }
 ],
 "metadata": {
  "kernelspec": {
   "display_name": "venv",
   "language": "python",
   "name": "python3"
  },
  "language_info": {
   "codemirror_mode": {
    "name": "ipython",
    "version": 3
   },
   "file_extension": ".py",
   "mimetype": "text/x-python",
   "name": "python",
   "nbconvert_exporter": "python",
   "pygments_lexer": "ipython3",
   "version": "3.11.6"
  }
 },
 "nbformat": 4,
 "nbformat_minor": 2
}
